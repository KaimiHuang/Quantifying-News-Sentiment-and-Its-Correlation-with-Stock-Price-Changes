{
 "cells": [
  {
   "cell_type": "code",
   "execution_count": 6,
   "id": "145057a6-e28b-470b-906c-b1bc088e7c80",
   "metadata": {},
   "outputs": [],
   "source": [
    "#set up the environment, import libraries \n",
    "import pandas as pd\n",
    "from glob import glob"
   ]
  },
  {
   "cell_type": "markdown",
   "id": "1de623af-0731-4a19-a26d-b7f9b9ed0bed",
   "metadata": {},
   "source": [
    "### use FinancialPhraseBank-v1.0 data for model-training\n",
    "    - import the data\n",
    "    - clean the data (if necessary)\n",
    "    - train and test multiple models"
   ]
  },
  {
   "cell_type": "markdown",
   "id": "a553d460-b9d6-43fe-88b8-733bbff2be08",
   "metadata": {},
   "source": [
    "##### "
   ]
  },
  {
   "cell_type": "markdown",
   "id": "7878289c-9cbf-49cd-b653-68077319d8d7",
   "metadata": {},
   "source": [
    "### import the data"
   ]
  },
  {
   "cell_type": "code",
   "execution_count": 11,
   "id": "7e5708f8-80bb-44bb-ae93-dd001728e947",
   "metadata": {},
   "outputs": [
    {
     "data": {
      "text/plain": [
       "['main.ipynb',\n",
       " 'train-00001-of-00002-50e0d6558d13575f.parquet',\n",
       " 'train-00000-of-00002-a3f58f0eb179f9ed.parquet',\n",
       " 'README.md',\n",
       " 'FinancialPhraseBank-v1.0']"
      ]
     },
     "execution_count": 11,
     "metadata": {},
     "output_type": "execute_result"
    }
   ],
   "source": [
    "glob('*')"
   ]
  },
  {
   "cell_type": "code",
   "execution_count": 17,
   "id": "2e2b21b4-0962-4bd6-8169-a51d1c0dfcb4",
   "metadata": {},
   "outputs": [
    {
     "data": {
      "text/plain": [
       "['FinancialPhraseBank-v1.0/Sentences_66Agree.txt',\n",
       " 'FinancialPhraseBank-v1.0/Sentences_AllAgree.txt',\n",
       " 'FinancialPhraseBank-v1.0/Sentences_50Agree.txt',\n",
       " 'FinancialPhraseBank-v1.0/README.txt',\n",
       " 'FinancialPhraseBank-v1.0/License.txt',\n",
       " 'FinancialPhraseBank-v1.0/Sentences_75Agree.txt']"
      ]
     },
     "execution_count": 17,
     "metadata": {},
     "output_type": "execute_result"
    }
   ],
   "source": [
    "glob('FinancialPhraseBank-v1.0/*')"
   ]
  },
  {
   "cell_type": "code",
   "execution_count": 50,
   "id": "d8f79f68-dcad-44b3-b3e2-db16cbb37ef5",
   "metadata": {},
   "outputs": [],
   "source": [
    "#use data that have 75% agreement among annotators\n",
    "data_path = 'FinancialPhraseBank-v1.0/Sentences_75Agree.txt'\n",
    "\n",
    "with open(data_path, 'r', encoding='utf-8', errors='backslashreplace') as f:\n",
    "    lines = f.readlines()"
   ]
  },
  {
   "cell_type": "code",
   "execution_count": 51,
   "id": "01292741-edd1-42a0-9c82-c4560bde5aea",
   "metadata": {},
   "outputs": [
    {
     "data": {
      "text/plain": [
       "['According to Gran , the company has no plans to move all production to Russia , although that is where the company is growing .@neutral\\n',\n",
       " 'With the new production plant the company would increase its capacity to meet the expected increase in demand and would improve the use of raw materials and therefore increase the production profitability .@positive\\n',\n",
       " \"For the last quarter of 2010 , Componenta 's net sales doubled to EUR131m from EUR76m for the same period a year earlier , while it moved to a zero pre-tax profit from a pre-tax loss of EUR7m .@positive\\n\",\n",
       " 'In the third quarter of 2010 , net sales increased by 5.2 % to EUR 205.5 mn , and operating profit by 34.9 % to EUR 23.5 mn .@positive\\n',\n",
       " 'Operating profit rose to EUR 13.1 mn from EUR 8.7 mn in the corresponding period in 2007 representing 7.7 % of net sales .@positive\\n',\n",
       " 'Operating profit totalled EUR 21.1 mn , up from EUR 18.6 mn in 2007 , representing 9.7 % of net sales .@positive\\n',\n",
       " \"TeliaSonera TLSN said the offer is in line with its strategy to increase its ownership in core business holdings and would strengthen Eesti Telekom 's offering to its customers .@positive\\n\",\n",
       " 'STORA ENSO , NORSKE SKOG , M-REAL , UPM-KYMMENE Credit Suisse First Boston ( CFSB ) raised the fair value for shares in four of the largest Nordic forestry groups .@positive\\n',\n",
       " 'A purchase agreement for 7,200 tons of gasoline with delivery at the Hamina terminal , Finland , was signed with Neste Oil OYj at the average Platts index for this September plus eight US dollars per month .@positive\\n',\n",
       " 'Finnish Talentum reports its operating profit increased to EUR 20.5 mn in 2005 from EUR 9.3 mn in 2004 , and net sales totaled EUR 103.3 mn , up from EUR 96.4 mn .@positive\\n']"
      ]
     },
     "execution_count": 51,
     "metadata": {},
     "output_type": "execute_result"
    }
   ],
   "source": [
    "lines[:10]"
   ]
  },
  {
   "cell_type": "markdown",
   "id": "143524cb-925c-487c-84a0-a5a9f9d6d6a2",
   "metadata": {},
   "source": [
    "##### "
   ]
  },
  {
   "cell_type": "markdown",
   "id": "f3fcceb7-b008-4f74-b1df-3469e09712c1",
   "metadata": {},
   "source": [
    "### clean the data"
   ]
  },
  {
   "cell_type": "code",
   "execution_count": 99,
   "id": "5a99d9f7-4cda-42d0-92e8-64e4354a07b9",
   "metadata": {},
   "outputs": [],
   "source": [
    "def break_lines(data_list = list):\n",
    "    return [line.split('@') for line in data_list]\n",
    "\n",
    "def data_wrangle(data_list = list):\n",
    "\n",
    "    #break up lines list into a list of lists\n",
    "    #each list contains two elements: string of the sentence and its sentiment label\n",
    "    ll = break_lines(data_list)    \n",
    "    \n",
    "    #pass data into a dataframe\n",
    "    df = pd.DataFrame(ll, columns = ['phrase','sentiment'])\n",
    "    \n",
    "    #clean up by column\n",
    "    df.sentiment = df.sentiment.apply(lambda x: x[:-1])\n",
    "    \n",
    "    return df"
   ]
  },
  {
   "cell_type": "code",
   "execution_count": 106,
   "id": "89756e74-810d-42db-961d-fbfac5e3df1f",
   "metadata": {},
   "outputs": [
    {
     "data": {
      "text/html": [
       "<div>\n",
       "<style scoped>\n",
       "    .dataframe tbody tr th:only-of-type {\n",
       "        vertical-align: middle;\n",
       "    }\n",
       "\n",
       "    .dataframe tbody tr th {\n",
       "        vertical-align: top;\n",
       "    }\n",
       "\n",
       "    .dataframe thead th {\n",
       "        text-align: right;\n",
       "    }\n",
       "</style>\n",
       "<table border=\"1\" class=\"dataframe\">\n",
       "  <thead>\n",
       "    <tr style=\"text-align: right;\">\n",
       "      <th></th>\n",
       "      <th>phrase</th>\n",
       "      <th>sentiment</th>\n",
       "    </tr>\n",
       "  </thead>\n",
       "  <tbody>\n",
       "    <tr>\n",
       "      <th>0</th>\n",
       "      <td>According to Gran , the company has no plans t...</td>\n",
       "      <td>neutral</td>\n",
       "    </tr>\n",
       "    <tr>\n",
       "      <th>1</th>\n",
       "      <td>With the new production plant the company woul...</td>\n",
       "      <td>positive</td>\n",
       "    </tr>\n",
       "    <tr>\n",
       "      <th>2</th>\n",
       "      <td>For the last quarter of 2010 , Componenta 's n...</td>\n",
       "      <td>positive</td>\n",
       "    </tr>\n",
       "    <tr>\n",
       "      <th>3</th>\n",
       "      <td>In the third quarter of 2010 , net sales incre...</td>\n",
       "      <td>positive</td>\n",
       "    </tr>\n",
       "    <tr>\n",
       "      <th>4</th>\n",
       "      <td>Operating profit rose to EUR 13.1 mn from EUR ...</td>\n",
       "      <td>positive</td>\n",
       "    </tr>\n",
       "  </tbody>\n",
       "</table>\n",
       "</div>"
      ],
      "text/plain": [
       "                                              phrase sentiment\n",
       "0  According to Gran , the company has no plans t...   neutral\n",
       "1  With the new production plant the company woul...  positive\n",
       "2  For the last quarter of 2010 , Componenta 's n...  positive\n",
       "3  In the third quarter of 2010 , net sales incre...  positive\n",
       "4  Operating profit rose to EUR 13.1 mn from EUR ...  positive"
      ]
     },
     "execution_count": 106,
     "metadata": {},
     "output_type": "execute_result"
    }
   ],
   "source": [
    "df = data_wrangle(lines)\n",
    "df.head()"
   ]
  },
  {
   "cell_type": "code",
   "execution_count": null,
   "id": "13f9b6e8-052d-46c2-89a3-f6d3ca206813",
   "metadata": {},
   "outputs": [],
   "source": [
    "#split up the data into train and test sets\n",
    "def data_split():\n",
    "    pass\n",
    "\n",
    "#train and test model_1\n",
    "def model_1():\n",
    "    pass\n",
    "\n",
    "#train and test model_2\n",
    "def model_2():\n",
    "    pass\n",
    "\n",
    "#train and test model_3\n",
    "def model_3():\n",
    "    pass\n",
    "\n",
    "#compare results"
   ]
  },
  {
   "cell_type": "code",
   "execution_count": null,
   "id": "87cafaef-5e19-48a7-a304-7daab8ac5d3f",
   "metadata": {},
   "outputs": [],
   "source": [
    "'''\n",
    "get sentiment prediction about a stock from historical financial news\n",
    "    - import the data\n",
    "    - clean the data\n",
    "    - feed the data to the best model and receive timeseries-sentiment predictions\n",
    "'''\n",
    "\n",
    "#import the data\n",
    "\n",
    "#clean the data\n",
    "def data_wrangle_fn():\n",
    "    pass\n",
    "\n",
    "#feed data and get predictions"
   ]
  },
  {
   "cell_type": "code",
   "execution_count": null,
   "id": "3cccc8ab-fcec-4142-8c2a-91680ec4de80",
   "metadata": {},
   "outputs": [],
   "source": [
    "'''\n",
    "plot timeseries data\n",
    "    - set up API \n",
    "    - clean up data \n",
    "    - plot timeseries data and sentiment predictions in the same plot\n",
    "'''\n",
    "\n",
    "#set up API\n",
    "\n",
    "#clean the data\n",
    "def data_wrangle_ts():\n",
    "    pass\n",
    "\n",
    "#plot the data\n",
    "def plot():\n",
    "    pass"
   ]
  },
  {
   "cell_type": "code",
   "execution_count": 32,
   "id": "3336c6da-68e5-4e52-8a8d-eb5514cfb1b1",
   "metadata": {},
   "outputs": [],
   "source": [
    "df = pd.read_parquet('train-00000-of-00002-a3f58f0eb179f9ed.parquet', engine='pyarrow')"
   ]
  },
  {
   "cell_type": "code",
   "execution_count": 36,
   "id": "cb4c2888-ec3a-49dc-b2fc-cff84f89cb1c",
   "metadata": {},
   "outputs": [
    {
     "name": "stdout",
     "output_type": "stream",
     "text": [
      "<class 'pandas.core.frame.DataFrame'>\n",
      "RangeIndex: 153121 entries, 0 to 153120\n",
      "Data columns (total 3 columns):\n",
      " #   Column  Non-Null Count   Dtype \n",
      "---  ------  --------------   ----- \n",
      " 0   title   153121 non-null  object\n",
      " 1   text    153121 non-null  object\n",
      " 2   url     153121 non-null  object\n",
      "dtypes: object(3)\n",
      "memory usage: 3.5+ MB\n"
     ]
    }
   ],
   "source": [
    "df.info()"
   ]
  },
  {
   "cell_type": "code",
   "execution_count": null,
   "id": "bb3b8835-b1a5-4473-9837-b2b8d2f305d6",
   "metadata": {},
   "outputs": [],
   "source": []
  }
 ],
 "metadata": {
  "kernelspec": {
   "display_name": "Python 3 (ipykernel)",
   "language": "python",
   "name": "python3"
  },
  "language_info": {
   "codemirror_mode": {
    "name": "ipython",
    "version": 3
   },
   "file_extension": ".py",
   "mimetype": "text/x-python",
   "name": "python",
   "nbconvert_exporter": "python",
   "pygments_lexer": "ipython3",
   "version": "3.9.13"
  }
 },
 "nbformat": 4,
 "nbformat_minor": 5
}
