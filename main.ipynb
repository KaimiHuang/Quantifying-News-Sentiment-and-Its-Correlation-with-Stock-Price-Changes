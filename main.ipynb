{
 "cells": [
  {
   "cell_type": "code",
   "execution_count": 1058,
   "id": "145057a6-e28b-470b-906c-b1bc088e7c80",
   "metadata": {},
   "outputs": [],
   "source": [
    "import pandas as pd\n",
    "import numpy as np\n",
    "import seaborn as sns\n",
    "import matplotlib.pyplot as plt\n",
    "from matplotlib.lines import Line2D\n",
    "from glob import glob\n",
    "import re\n",
    "import requests\n",
    "import json\n",
    "from sklearn.multiclass import OneVsRestClassifier\n",
    "from sklearn.model_selection import StratifiedShuffleSplit\n",
    "from sklearn.model_selection import GridSearchCV\n",
    "from sklearn.pipeline import Pipeline\n",
    "from sklearn.linear_model import LogisticRegression\n",
    "from sklearn.feature_extraction.text import TfidfVectorizer"
   ]
  },
  {
   "cell_type": "markdown",
   "id": "1de623af-0731-4a19-a26d-b7f9b9ed0bed",
   "metadata": {},
   "source": [
    "### use FinancialPhraseBank-v1.0 data for model-training\n",
    "    * import the data. Data is from https://huggingface.co/datasets/takala/financial_phrasebank\n",
    "    * clean the data (if necessary)\n",
    "    * train and test multiple models"
   ]
  },
  {
   "cell_type": "markdown",
   "id": "a553d460-b9d6-43fe-88b8-733bbff2be08",
   "metadata": {},
   "source": [
    "##### "
   ]
  },
  {
   "cell_type": "markdown",
   "id": "7878289c-9cbf-49cd-b653-68077319d8d7",
   "metadata": {},
   "source": [
    "### import the data"
   ]
  },
  {
   "cell_type": "code",
   "execution_count": 1059,
   "id": "7e5708f8-80bb-44bb-ae93-dd001728e947",
   "metadata": {},
   "outputs": [
    {
     "data": {
      "text/plain": [
       "['main.ipynb',\n",
       " 'train-00001-of-00002-50e0d6558d13575f.parquet',\n",
       " 'train-00000-of-00002-a3f58f0eb179f9ed.parquet',\n",
       " 'README.md',\n",
       " 'FinancialPhraseBank-v1.0']"
      ]
     },
     "execution_count": 1059,
     "metadata": {},
     "output_type": "execute_result"
    }
   ],
   "source": [
    "glob('*')"
   ]
  },
  {
   "cell_type": "code",
   "execution_count": 1060,
   "id": "2e2b21b4-0962-4bd6-8169-a51d1c0dfcb4",
   "metadata": {},
   "outputs": [
    {
     "data": {
      "text/plain": [
       "['FinancialPhraseBank-v1.0/Sentences_66Agree.txt',\n",
       " 'FinancialPhraseBank-v1.0/Sentences_AllAgree.txt',\n",
       " 'FinancialPhraseBank-v1.0/Sentences_50Agree.txt',\n",
       " 'FinancialPhraseBank-v1.0/README.txt',\n",
       " 'FinancialPhraseBank-v1.0/License.txt',\n",
       " 'FinancialPhraseBank-v1.0/Sentences_75Agree.txt']"
      ]
     },
     "execution_count": 1060,
     "metadata": {},
     "output_type": "execute_result"
    }
   ],
   "source": [
    "glob('FinancialPhraseBank-v1.0/*')"
   ]
  },
  {
   "cell_type": "code",
   "execution_count": 1061,
   "id": "d8f79f68-dcad-44b3-b3e2-db16cbb37ef5",
   "metadata": {},
   "outputs": [],
   "source": [
    "#use data that have 75% agreement among annotators\n",
    "data_path = 'FinancialPhraseBank-v1.0/Sentences_75Agree.txt'\n",
    "\n",
    "with open(data_path, 'r', encoding='utf-8', errors='backslashreplace') as f:\n",
    "    lines = f.readlines()"
   ]
  },
  {
   "cell_type": "code",
   "execution_count": 1062,
   "id": "01292741-edd1-42a0-9c82-c4560bde5aea",
   "metadata": {},
   "outputs": [
    {
     "data": {
      "text/plain": [
       "['According to Gran , the company has no plans to move all production to Russia , although that is where the company is growing .@neutral\\n',\n",
       " 'With the new production plant the company would increase its capacity to meet the expected increase in demand and would improve the use of raw materials and therefore increase the production profitability .@positive\\n',\n",
       " \"For the last quarter of 2010 , Componenta 's net sales doubled to EUR131m from EUR76m for the same period a year earlier , while it moved to a zero pre-tax profit from a pre-tax loss of EUR7m .@positive\\n\",\n",
       " 'In the third quarter of 2010 , net sales increased by 5.2 % to EUR 205.5 mn , and operating profit by 34.9 % to EUR 23.5 mn .@positive\\n',\n",
       " 'Operating profit rose to EUR 13.1 mn from EUR 8.7 mn in the corresponding period in 2007 representing 7.7 % of net sales .@positive\\n',\n",
       " 'Operating profit totalled EUR 21.1 mn , up from EUR 18.6 mn in 2007 , representing 9.7 % of net sales .@positive\\n',\n",
       " \"TeliaSonera TLSN said the offer is in line with its strategy to increase its ownership in core business holdings and would strengthen Eesti Telekom 's offering to its customers .@positive\\n\",\n",
       " 'STORA ENSO , NORSKE SKOG , M-REAL , UPM-KYMMENE Credit Suisse First Boston ( CFSB ) raised the fair value for shares in four of the largest Nordic forestry groups .@positive\\n',\n",
       " 'A purchase agreement for 7,200 tons of gasoline with delivery at the Hamina terminal , Finland , was signed with Neste Oil OYj at the average Platts index for this September plus eight US dollars per month .@positive\\n',\n",
       " 'Finnish Talentum reports its operating profit increased to EUR 20.5 mn in 2005 from EUR 9.3 mn in 2004 , and net sales totaled EUR 103.3 mn , up from EUR 96.4 mn .@positive\\n']"
      ]
     },
     "execution_count": 1062,
     "metadata": {},
     "output_type": "execute_result"
    }
   ],
   "source": [
    "lines[:10]"
   ]
  },
  {
   "cell_type": "markdown",
   "id": "143524cb-925c-487c-84a0-a5a9f9d6d6a2",
   "metadata": {},
   "source": [
    "##### "
   ]
  },
  {
   "cell_type": "markdown",
   "id": "f3fcceb7-b008-4f74-b1df-3469e09712c1",
   "metadata": {},
   "source": [
    "### clean the data"
   ]
  },
  {
   "cell_type": "code",
   "execution_count": 1063,
   "id": "5a99d9f7-4cda-42d0-92e8-64e4354a07b9",
   "metadata": {},
   "outputs": [],
   "source": [
    "def break_lines(data_list = list):\n",
    "    'separate sentence and sentiment tag'\n",
    "    return [line.split('@') for line in data_list] #have to use re??\n",
    "\n",
    "def preprocessor(text):\n",
    "    'remove non-word chars. make text lowercase'\n",
    "    text = (re.sub('[\\W]+',' ', text.lower()))\n",
    "    return text\n",
    "\n",
    "def data_wrangle(data_list = list):\n",
    "    '''\n",
    "    takes a list of lines and creates a dataframe, where\n",
    "    the first column contains cleaned phrases, and \n",
    "    the second column contains labels \n",
    "    '''\n",
    "    \n",
    "    ll = break_lines(data_list)    \n",
    "    \n",
    "    df = pd.DataFrame(ll, columns = ['sentence','sentiment'])\n",
    "    \n",
    "    df.sentence = df.sentence.apply(preprocessor)\n",
    "    \n",
    "    #to get rid of the '\\n' next to each sentiment\n",
    "    df.sentiment = df.sentiment.apply(lambda x: x[:-1]) #have to use re??\n",
    "    \n",
    "    #labels: Neutral= 0, Positive= 1, Negative= 2\n",
    "    df['label']=df.sentiment.apply(lambda x: 0 if x=='neutral' else(1 if x=='positive' else -1))\n",
    "    \n",
    "    df.drop(columns = ['sentiment'], inplace=True)\n",
    "\n",
    "    df.drop_duplicates(inplace=True)\n",
    "    \n",
    "    df.reset_index(drop=True, inplace=True)\n",
    "    \n",
    "    return df"
   ]
  },
  {
   "cell_type": "code",
   "execution_count": 1064,
   "id": "89756e74-810d-42db-961d-fbfac5e3df1f",
   "metadata": {},
   "outputs": [
    {
     "data": {
      "text/html": [
       "<div>\n",
       "<style scoped>\n",
       "    .dataframe tbody tr th:only-of-type {\n",
       "        vertical-align: middle;\n",
       "    }\n",
       "\n",
       "    .dataframe tbody tr th {\n",
       "        vertical-align: top;\n",
       "    }\n",
       "\n",
       "    .dataframe thead th {\n",
       "        text-align: right;\n",
       "    }\n",
       "</style>\n",
       "<table border=\"1\" class=\"dataframe\">\n",
       "  <thead>\n",
       "    <tr style=\"text-align: right;\">\n",
       "      <th></th>\n",
       "      <th>sentence</th>\n",
       "      <th>label</th>\n",
       "    </tr>\n",
       "  </thead>\n",
       "  <tbody>\n",
       "    <tr>\n",
       "      <th>0</th>\n",
       "      <td>according to gran the company has no plans to ...</td>\n",
       "      <td>0</td>\n",
       "    </tr>\n",
       "    <tr>\n",
       "      <th>1</th>\n",
       "      <td>with the new production plant the company woul...</td>\n",
       "      <td>1</td>\n",
       "    </tr>\n",
       "    <tr>\n",
       "      <th>2</th>\n",
       "      <td>for the last quarter of 2010 componenta s net ...</td>\n",
       "      <td>1</td>\n",
       "    </tr>\n",
       "    <tr>\n",
       "      <th>3</th>\n",
       "      <td>in the third quarter of 2010 net sales increas...</td>\n",
       "      <td>1</td>\n",
       "    </tr>\n",
       "    <tr>\n",
       "      <th>4</th>\n",
       "      <td>operating profit rose to eur 13 1 mn from eur ...</td>\n",
       "      <td>1</td>\n",
       "    </tr>\n",
       "  </tbody>\n",
       "</table>\n",
       "</div>"
      ],
      "text/plain": [
       "                                            sentence  label\n",
       "0  according to gran the company has no plans to ...      0\n",
       "1  with the new production plant the company woul...      1\n",
       "2  for the last quarter of 2010 componenta s net ...      1\n",
       "3  in the third quarter of 2010 net sales increas...      1\n",
       "4  operating profit rose to eur 13 1 mn from eur ...      1"
      ]
     },
     "execution_count": 1064,
     "metadata": {},
     "output_type": "execute_result"
    }
   ],
   "source": [
    "df = data_wrangle(lines)\n",
    "df.head()"
   ]
  },
  {
   "cell_type": "code",
   "execution_count": 1065,
   "id": "c0c8567b-a3b7-436e-9def-7e1c2ee3ecfd",
   "metadata": {},
   "outputs": [
    {
     "data": {
      "text/plain": [
       "sentence    0\n",
       "label       0\n",
       "dtype: int64"
      ]
     },
     "execution_count": 1065,
     "metadata": {},
     "output_type": "execute_result"
    }
   ],
   "source": [
    "#check if there are missing values\n",
    "df.isna().sum()"
   ]
  },
  {
   "cell_type": "code",
   "execution_count": 1066,
   "id": "ac510592-9b16-4c8d-91ab-17bdedc7910c",
   "metadata": {},
   "outputs": [
    {
     "name": "stdout",
     "output_type": "stream",
     "text": [
      "<class 'pandas.core.frame.DataFrame'>\n",
      "RangeIndex: 3447 entries, 0 to 3446\n",
      "Data columns (total 2 columns):\n",
      " #   Column    Non-Null Count  Dtype \n",
      "---  ------    --------------  ----- \n",
      " 0   sentence  3447 non-null   object\n",
      " 1   label     3447 non-null   int64 \n",
      "dtypes: int64(1), object(1)\n",
      "memory usage: 54.0+ KB\n"
     ]
    }
   ],
   "source": [
    "df.info()"
   ]
  },
  {
   "cell_type": "code",
   "execution_count": 1067,
   "id": "623c2298-991a-43f3-9a35-c73e718afe38",
   "metadata": {},
   "outputs": [
    {
     "data": {
      "text/plain": [
       " 0    0.620830\n",
       " 1    0.257325\n",
       "-1    0.121845\n",
       "Name: label, dtype: float64"
      ]
     },
     "execution_count": 1067,
     "metadata": {},
     "output_type": "execute_result"
    }
   ],
   "source": [
    "df.label.value_counts()/df.shape[0]"
   ]
  },
  {
   "cell_type": "code",
   "execution_count": 1068,
   "id": "f3c22477-9d2a-4edd-9247-c50cbfae8e83",
   "metadata": {},
   "outputs": [],
   "source": [
    "def data_split(dataframe):\n",
    "    'split the data into balanced train and test sets'\n",
    "    X = dataframe['sentence']\n",
    "    y = dataframe['label']\n",
    "    \n",
    "    sss = StratifiedShuffleSplit(n_splits=1, test_size=0.2, train_size=0.8, random_state=123)\n",
    "    train_ind, test_ind = next(sss.split(X,y,groups=None))\n",
    "    \n",
    "    X_train, y_train, X_test, y_test = X.iloc[train_ind], y.iloc[train_ind], X.iloc[test_ind], y.iloc[test_ind]\n",
    "    \n",
    "    return X_train, y_train, X_test, y_test"
   ]
  },
  {
   "cell_type": "code",
   "execution_count": 1069,
   "id": "c6a08e13-a6de-4496-804c-5528c1cce628",
   "metadata": {},
   "outputs": [],
   "source": [
    "X_train, y_train, X_test, y_test = data_split(df)"
   ]
  },
  {
   "cell_type": "code",
   "execution_count": 1070,
   "id": "1b56a12d-4803-495a-a5f6-4671ec462edc",
   "metadata": {},
   "outputs": [
    {
     "data": {
      "text/plain": [
       " 0    0.620965\n",
       " 1    0.257164\n",
       "-1    0.121872\n",
       "Name: label, dtype: float64"
      ]
     },
     "execution_count": 1070,
     "metadata": {},
     "output_type": "execute_result"
    }
   ],
   "source": [
    "y_train.value_counts()/y_train.shape[0]"
   ]
  },
  {
   "cell_type": "markdown",
   "id": "eb900727-dbbb-4e1e-ace5-bb65090fbfcb",
   "metadata": {},
   "source": [
    "#### "
   ]
  },
  {
   "cell_type": "markdown",
   "id": "9cf0f842-b56e-4e2a-a5a3-c527dad5de23",
   "metadata": {},
   "source": [
    "### model 1 - Term Frequency-Inverse Document Frequency (TF-IDF), Multinomial Logistic Regression"
   ]
  },
  {
   "cell_type": "code",
   "execution_count": 1071,
   "id": "2633ea2d-f40e-4d2e-a254-fa8d0e0c8d56",
   "metadata": {},
   "outputs": [],
   "source": [
    "def tokenizer(text):\n",
    "    return text.split()"
   ]
  },
  {
   "cell_type": "code",
   "execution_count": 1072,
   "id": "6ed369ce-f30f-4d79-9e0e-b8bfb6b31059",
   "metadata": {},
   "outputs": [],
   "source": [
    "tfidf = TfidfVectorizer(strip_accents=None,\n",
    "                        lowercase=False,\n",
    "                        preprocessor=None,\n",
    "                        tokenizer = tokenizer)\n",
    "\n",
    "lr_tfidf = Pipeline([('vect',tfidf),\n",
    "                     ('clf',OneVsRestClassifier(LogisticRegression(random_state=123,   #multinomial classifier\n",
    "                                                                   solver='newton-cg',\n",
    "                                                                   penalty='l2',\n",
    "                                                                   class_weight ='balanced')))])     "
   ]
  },
  {
   "cell_type": "code",
   "execution_count": 1073,
   "id": "d6929353-1196-4739-864e-3c4b9dc1f8fa",
   "metadata": {},
   "outputs": [
    {
     "data": {
      "text/plain": [
       "GridSearchCV(cv=5,\n",
       "             estimator=Pipeline(steps=[('vect',\n",
       "                                        TfidfVectorizer(lowercase=False,\n",
       "                                                        tokenizer=<function tokenizer at 0x7fcbb012f820>)),\n",
       "                                       ('clf',\n",
       "                                        OneVsRestClassifier(estimator=LogisticRegression(class_weight='balanced',\n",
       "                                                                                         random_state=123,\n",
       "                                                                                         solver='newton-cg')))]),\n",
       "             n_jobs=-1,\n",
       "             param_grid=[{'clf__estimator__C': [1.0, 10.0, 100.0],\n",
       "                          'vect__max_df': [0.25, 0.5, 0.75],\n",
       "                          'vect__ngram_range': [(1, 1)]},\n",
       "                         {'clf__estimator__C': [1.0, 10.0, 100.0],\n",
       "                          'vect__max_df': [0.25, 0.5, 0.75],\n",
       "                          'vect__ngram_range': [(1, 2)], 'vect__norm': [None],\n",
       "                          'vect__use_idf': [False]}],\n",
       "             scoring='accuracy')"
      ]
     },
     "execution_count": 1073,
     "metadata": {},
     "output_type": "execute_result"
    }
   ],
   "source": [
    "param_grid = [\n",
    "    {\n",
    "        'vect__ngram_range': [(1,1)],\n",
    "        'vect__max_df':[.25,.5,.75],\n",
    "        #'vect__tokenizer': [tokenizer,tokenizer_porter], # try with and without stemming\n",
    "        \n",
    "        'clf__estimator__C':[1.0,10.0,100.0],\n",
    "    },\n",
    "    {\n",
    "        'vect__ngram_range': [(1,2)],                    # try both unigram and bigram\n",
    "        'vect__max_df':[.25,.5,.75],\n",
    "        #'vect__tokenizer': [tokenizer,tokenizer_porter],\n",
    "        'vect__use_idf': [False],                        # try using term frequencies without tf-idf\n",
    "        'vect__norm': [None],                            # turn off norming when using tf\n",
    "        \n",
    "        'clf__estimator__C': [1.0,10.0,100.0]\n",
    "    }\n",
    "    ]\n",
    "\n",
    "gs_lr_tfidf = GridSearchCV(lr_tfidf, param_grid, scoring='accuracy', cv=5, verbose=0, n_jobs=-1)\n",
    "gs_lr_tfidf.fit(X_train,y_train)"
   ]
  },
  {
   "cell_type": "code",
   "execution_count": 1074,
   "id": "049316cf-bdd1-4cc9-bac3-8a8c65d51352",
   "metadata": {},
   "outputs": [
    {
     "name": "stdout",
     "output_type": "stream",
     "text": [
      "Best parameter set: {'clf__estimator__C': 10.0, 'vect__max_df': 0.25, 'vect__ngram_range': (1, 2), 'vect__norm': None, 'vect__use_idf': False}\n",
      "CV Accuracy: 0.857\n"
     ]
    }
   ],
   "source": [
    "print(f'Best parameter set: {gs_lr_tfidf.best_params_}')\n",
    "print(f'CV Accuracy: {gs_lr_tfidf.best_score_:0.3f}')"
   ]
  },
  {
   "cell_type": "code",
   "execution_count": 1075,
   "id": "01b512cd-51fc-42a9-ae28-7b39e2d2cccc",
   "metadata": {},
   "outputs": [
    {
     "name": "stdout",
     "output_type": "stream",
     "text": [
      "Test Accuracy: 0.852\n"
     ]
    }
   ],
   "source": [
    "model_1 = gs_lr_tfidf.best_estimator_\n",
    "print(f'Test Accuracy: {model_1.score(X_test, y_test):0.3f}')"
   ]
  },
  {
   "cell_type": "code",
   "execution_count": null,
   "id": "8f8423ce-e262-49c9-8151-e28c0626f127",
   "metadata": {},
   "outputs": [],
   "source": []
  },
  {
   "cell_type": "code",
   "execution_count": 1076,
   "id": "88533e2f-5fd9-4ae8-9aa7-920fd547d8f9",
   "metadata": {},
   "outputs": [
    {
     "data": {
      "text/plain": [
       "'tesla reports 7 drop in auto revenue as earnings fall short of wall street estimates'"
      ]
     },
     "execution_count": 1076,
     "metadata": {},
     "output_type": "execute_result"
    }
   ],
   "source": [
    "# test using new examples\n",
    "txt = 'Tesla reports 7% drop in auto revenue as earnings fall short of Wall Street estimates'\n",
    "txt_p = preprocessor(txt)\n",
    "txt_p"
   ]
  },
  {
   "cell_type": "code",
   "execution_count": 1077,
   "id": "03fdbece-a1f1-409a-89df-94633a236bf0",
   "metadata": {},
   "outputs": [
    {
     "data": {
      "text/plain": [
       "(array([0]), array([[0., 1., 0.]]))"
      ]
     },
     "execution_count": 1077,
     "metadata": {},
     "output_type": "execute_result"
    }
   ],
   "source": [
    "model_1.predict([txt_p]), np.round(model_1.predict_proba([txt_p]))"
   ]
  },
  {
   "cell_type": "code",
   "execution_count": 1078,
   "id": "0919c3c1-8475-47b1-94f9-d3fa1bf2fa43",
   "metadata": {},
   "outputs": [
    {
     "data": {
      "text/plain": [
       "'tesla reported weaker than expected earnings for the second quarter as automotive sales dropped for a second straight period '"
      ]
     },
     "execution_count": 1078,
     "metadata": {},
     "output_type": "execute_result"
    }
   ],
   "source": [
    "txt_2 = 'Tesla reported weaker-than-expected earnings for the second quarter as automotive sales dropped for a second straight period.'\n",
    "txt_2_p = preprocessor(txt_2)\n",
    "txt_2_p"
   ]
  },
  {
   "cell_type": "code",
   "execution_count": 1079,
   "id": "ae9b95c6-f973-4f7d-b429-14d607a31c93",
   "metadata": {},
   "outputs": [
    {
     "data": {
      "text/plain": [
       "(array([-1]), array([[1., 0., 0.]]))"
      ]
     },
     "execution_count": 1079,
     "metadata": {},
     "output_type": "execute_result"
    }
   ],
   "source": [
    "model_1.predict([txt_2_p]), np.round(model_1.predict_proba([txt_2_p]))"
   ]
  },
  {
   "cell_type": "code",
   "execution_count": 1080,
   "id": "cd95b05c-0c9e-4623-9494-db7aebe8755e",
   "metadata": {},
   "outputs": [
    {
     "data": {
      "text/plain": [
       "'sonim technologies inc nasdaq sonm director jeffrey wang recently sold company shares generating a total of over 5 900 in the process '"
      ]
     },
     "execution_count": 1080,
     "metadata": {},
     "output_type": "execute_result"
    }
   ],
   "source": [
    "txt_3 = 'Sonim Technologies Inc . (NASDAQ:SONM) director Jeffrey Wang recently sold company shares, generating a total of over $5,900 in the process. '\n",
    "txt_3_p = preprocessor(txt_3)\n",
    "txt_3_p"
   ]
  },
  {
   "cell_type": "code",
   "execution_count": 1081,
   "id": "a77df8ed-5e3f-4800-9342-5967238a23ee",
   "metadata": {},
   "outputs": [
    {
     "data": {
      "text/plain": [
       "(array([0]), array([[0., 1., 0.]]))"
      ]
     },
     "execution_count": 1081,
     "metadata": {},
     "output_type": "execute_result"
    }
   ],
   "source": [
    "model_1.predict([txt_3_p]), np.round(model_1.predict_proba([txt_3_p]))"
   ]
  },
  {
   "cell_type": "code",
   "execution_count": 1082,
   "id": "cf43e63e-df21-4838-95e9-08e9ef190902",
   "metadata": {},
   "outputs": [
    {
     "data": {
      "text/plain": [
       "Pipeline(steps=[('vect',\n",
       "                 TfidfVectorizer(lowercase=False, max_df=0.25,\n",
       "                                 ngram_range=(1, 2), norm=None,\n",
       "                                 tokenizer=<function tokenizer at 0x7fcbb012f820>,\n",
       "                                 use_idf=False)),\n",
       "                ('clf',\n",
       "                 OneVsRestClassifier(estimator=LogisticRegression(C=10.0,\n",
       "                                                                  class_weight='balanced',\n",
       "                                                                  random_state=123,\n",
       "                                                                  solver='newton-cg')))])"
      ]
     },
     "execution_count": 1082,
     "metadata": {},
     "output_type": "execute_result"
    }
   ],
   "source": [
    "model_1"
   ]
  },
  {
   "cell_type": "markdown",
   "id": "e40fb815-436f-41c8-9995-1d1556556732",
   "metadata": {},
   "source": [
    "#### "
   ]
  },
  {
   "cell_type": "markdown",
   "id": "59340bb7-fa10-4c59-ae65-2fba30dda208",
   "metadata": {},
   "source": [
    "### model 2 - bert"
   ]
  },
  {
   "cell_type": "code",
   "execution_count": null,
   "id": "13f9b6e8-052d-46c2-89a3-f6d3ca206813",
   "metadata": {},
   "outputs": [],
   "source": [
    "\n",
    "#train and test model_2\n",
    "def model_2():\n",
    "    pass\n"
   ]
  },
  {
   "cell_type": "markdown",
   "id": "d7a748a9-39a5-4722-a792-b8925f22f041",
   "metadata": {},
   "source": [
    "### "
   ]
  },
  {
   "cell_type": "markdown",
   "id": "c932171a-80d2-4997-831e-12ab453ba8bb",
   "metadata": {},
   "source": [
    "### model 3 -"
   ]
  },
  {
   "cell_type": "code",
   "execution_count": null,
   "id": "ee94b972-1c53-478e-8c29-f7ffe8e348d5",
   "metadata": {},
   "outputs": [],
   "source": [
    "#train and test model_3\n",
    "def model_3():\n",
    "    pass\n",
    "\n",
    "#compare results"
   ]
  },
  {
   "cell_type": "markdown",
   "id": "de6fd50a-c99d-4a56-90bf-c3fbc60f8687",
   "metadata": {},
   "source": [
    "### "
   ]
  },
  {
   "cell_type": "markdown",
   "id": "467c7d8d-21ba-46da-8998-97f7f9c484e2",
   "metadata": {},
   "source": [
    "### predict sentiment about a stock in historical financial news"
   ]
  },
  {
   "cell_type": "markdown",
   "id": "d95748d4-71b4-4fd0-ac80-254a77de3505",
   "metadata": {},
   "source": [
    "* import the data. Data is from https://huggingface.co/datasets/ashraq/financial-news-articles\n",
    "* feed the data to the best model and receive timeseries sentiment predictions\n",
    "    * choose a public company\n",
    "    * create a dataframe that contains \n",
    "        * date\n",
    "        * newspaper name\n",
    "        * title of article\n",
    "        * article\n",
    "        * average sentiment of the article (this is where model will be utilized)"
   ]
  },
  {
   "cell_type": "markdown",
   "id": "cbfb8c0d-fdc6-458a-a405-b7faaa6cd4ea",
   "metadata": {},
   "source": [
    "### import the data"
   ]
  },
  {
   "cell_type": "code",
   "execution_count": 1083,
   "id": "6ad32e42-19fc-4304-a1ae-ecdc42050341",
   "metadata": {},
   "outputs": [
    {
     "data": {
      "text/plain": [
       "['main.ipynb',\n",
       " 'train-00001-of-00002-50e0d6558d13575f.parquet',\n",
       " 'train-00000-of-00002-a3f58f0eb179f9ed.parquet',\n",
       " 'README.md',\n",
       " 'FinancialPhraseBank-v1.0']"
      ]
     },
     "execution_count": 1083,
     "metadata": {},
     "output_type": "execute_result"
    }
   ],
   "source": [
    "glob('*')"
   ]
  },
  {
   "cell_type": "code",
   "execution_count": 1084,
   "id": "9d4c9512-41a6-4f6c-a6c1-e8d2e1bf167b",
   "metadata": {},
   "outputs": [],
   "source": [
    "df_news_1 = pd.read_parquet('train-00000-of-00002-a3f58f0eb179f9ed.parquet', engine='pyarrow')\n",
    "df_news_2 = pd.read_parquet('train-00001-of-00002-50e0d6558d13575f.parquet', engine='pyarrow')"
   ]
  },
  {
   "cell_type": "code",
   "execution_count": 1085,
   "id": "ec86c86f-9877-444d-b862-218b707b8fb2",
   "metadata": {},
   "outputs": [],
   "source": [
    "#alternatively, \n",
    "#from datasets import load_dataset\n",
    "#ds = load_dataset(\"ashraq/financial-news-articles\")"
   ]
  },
  {
   "cell_type": "code",
   "execution_count": 1086,
   "id": "e60eb0b3-ae6e-4d9c-b0a5-5ec96a1178fe",
   "metadata": {},
   "outputs": [],
   "source": [
    "df_news = pd.concat([df_news_1,df_news_2])"
   ]
  },
  {
   "cell_type": "code",
   "execution_count": 1087,
   "id": "1d80df21-f17d-4c76-8202-d08e593de7c9",
   "metadata": {},
   "outputs": [],
   "source": [
    "df_news.drop_duplicates(inplace=True)\n",
    "df_news.reset_index(drop=True, inplace=True)"
   ]
  },
  {
   "cell_type": "code",
   "execution_count": 1090,
   "id": "b983118e-2952-4ee4-be21-4c56f8384758",
   "metadata": {},
   "outputs": [
    {
     "data": {
      "text/html": [
       "<div>\n",
       "<style scoped>\n",
       "    .dataframe tbody tr th:only-of-type {\n",
       "        vertical-align: middle;\n",
       "    }\n",
       "\n",
       "    .dataframe tbody tr th {\n",
       "        vertical-align: top;\n",
       "    }\n",
       "\n",
       "    .dataframe thead th {\n",
       "        text-align: right;\n",
       "    }\n",
       "</style>\n",
       "<table border=\"1\" class=\"dataframe\">\n",
       "  <thead>\n",
       "    <tr style=\"text-align: right;\">\n",
       "      <th></th>\n",
       "      <th>title</th>\n",
       "      <th>text</th>\n",
       "      <th>url</th>\n",
       "    </tr>\n",
       "  </thead>\n",
       "  <tbody>\n",
       "    <tr>\n",
       "      <th>0</th>\n",
       "      <td>BRIEF-Bigger Capital Fund Reports An 8 Pct Pas...</td>\n",
       "      <td>January 2, 2018 / 9:31 PM / Updated 8 minutes ...</td>\n",
       "      <td>https://www.reuters.com/article/brief-bigger-c...</td>\n",
       "    </tr>\n",
       "    <tr>\n",
       "      <th>1</th>\n",
       "      <td>Global Markets: Asia shares reach decade top o...</td>\n",
       "      <td>NEW YORK (Reuters) - European stocks closed lo...</td>\n",
       "      <td>https://in.reuters.com/article/global-markets/...</td>\n",
       "    </tr>\n",
       "    <tr>\n",
       "      <th>2</th>\n",
       "      <td>Donald Trump is the only person in Washington ...</td>\n",
       "      <td>Fears of a government shutdown coursed through...</td>\n",
       "      <td>https://www.cnbc.com/2018/01/18/donald-trump-t...</td>\n",
       "    </tr>\n",
       "    <tr>\n",
       "      <th>3</th>\n",
       "      <td>Actor Casey Affleck withdraws as 2018 Oscar pr...</td>\n",
       "      <td>03 PM / Updated 19 minutes ago Actor Casey Af...</td>\n",
       "      <td>https://www.reuters.com/article/us-oscars-case...</td>\n",
       "    </tr>\n",
       "    <tr>\n",
       "      <th>4</th>\n",
       "      <td>EU mulls new link between budget and civic rights</td>\n",
       "      <td>January 22, 2018 / 7:23 PM / Updated 2 hours a...</td>\n",
       "      <td>https://uk.reuters.com/article/uk-eu-poland-bu...</td>\n",
       "    </tr>\n",
       "  </tbody>\n",
       "</table>\n",
       "</div>"
      ],
      "text/plain": [
       "                                               title  \\\n",
       "0  BRIEF-Bigger Capital Fund Reports An 8 Pct Pas...   \n",
       "1  Global Markets: Asia shares reach decade top o...   \n",
       "2  Donald Trump is the only person in Washington ...   \n",
       "3  Actor Casey Affleck withdraws as 2018 Oscar pr...   \n",
       "4  EU mulls new link between budget and civic rights   \n",
       "\n",
       "                                                text  \\\n",
       "0  January 2, 2018 / 9:31 PM / Updated 8 minutes ...   \n",
       "1  NEW YORK (Reuters) - European stocks closed lo...   \n",
       "2  Fears of a government shutdown coursed through...   \n",
       "3   03 PM / Updated 19 minutes ago Actor Casey Af...   \n",
       "4  January 22, 2018 / 7:23 PM / Updated 2 hours a...   \n",
       "\n",
       "                                                 url  \n",
       "0  https://www.reuters.com/article/brief-bigger-c...  \n",
       "1  https://in.reuters.com/article/global-markets/...  \n",
       "2  https://www.cnbc.com/2018/01/18/donald-trump-t...  \n",
       "3  https://www.reuters.com/article/us-oscars-case...  \n",
       "4  https://uk.reuters.com/article/uk-eu-poland-bu...  "
      ]
     },
     "execution_count": 1090,
     "metadata": {},
     "output_type": "execute_result"
    }
   ],
   "source": [
    "df_news.head()"
   ]
  },
  {
   "cell_type": "code",
   "execution_count": 1091,
   "id": "04212739-1785-4d44-9d7d-095fa21c8218",
   "metadata": {},
   "outputs": [
    {
     "name": "stdout",
     "output_type": "stream",
     "text": [
      "<class 'pandas.core.frame.DataFrame'>\n",
      "RangeIndex: 306239 entries, 0 to 306238\n",
      "Data columns (total 3 columns):\n",
      " #   Column  Non-Null Count   Dtype \n",
      "---  ------  --------------   ----- \n",
      " 0   title   306239 non-null  object\n",
      " 1   text    306239 non-null  object\n",
      " 2   url     306239 non-null  object\n",
      "dtypes: object(3)\n",
      "memory usage: 7.0+ MB\n"
     ]
    }
   ],
   "source": [
    "df_news.info()"
   ]
  },
  {
   "cell_type": "markdown",
   "id": "256dbdcb-7ef6-4bbf-8e1f-daa1bd7ee84d",
   "metadata": {},
   "source": [
    "### "
   ]
  },
  {
   "cell_type": "markdown",
   "id": "72a8f4b6-f4e9-40fe-96fc-eb474070f506",
   "metadata": {},
   "source": [
    "### feed the data to the best model and receive timeseries-sentiment predictions\n",
    "    * choose a public company\n",
    "    * for the company, create a dataframe that contains \n",
    "        * date\n",
    "        * newspaper name\n",
    "        * title of article\n",
    "        * article\n",
    "        * average sentiment of the article (this is where model will be utilized)"
   ]
  },
  {
   "cell_type": "code",
   "execution_count": 1093,
   "id": "6193a46d-83ff-461b-97ce-815ab6075c1a",
   "metadata": {},
   "outputs": [],
   "source": [
    "def extract_newsletter_name(url):\n",
    "    pattern = r'^.+://([\\w]*\\.*[\\w]+)\\.com.*'\n",
    "    name = re.findall(pattern,url)[0]\n",
    "    name = name.split('.')[-1]\n",
    "    return name\n",
    "\n",
    "def extract_date_from_url(url):\n",
    "    pattern = r'^.*\\/([\\d]{4}\\/[\\d]{2}\\/[\\d]{2}).*'\n",
    "    dates = re.findall(pattern,url)\n",
    "    if len(dates) != 0:\n",
    "        date = dates[0]\n",
    "    else:\n",
    "        date = np.nan\n",
    "    return date\n",
    "    \n",
    "def extract_date_from_article(article):\n",
    "    miss_spelling_jan = 'Janauary'\n",
    "    miss_spelling_feb = 'Febuary'\n",
    "    \n",
    "    len_ms_jan = len(miss_spelling_jan)\n",
    "    len_ms_feb = len(miss_spelling_feb)\n",
    "    \n",
    "    pattern = r'([A-Z][a-z]+ [\\d]{1,2}, [\\d]{4}).*'\n",
    "    dates = re.findall(pattern,article)\n",
    "    if len(dates) != 0:\n",
    "        date = dates[0]\n",
    "        if date.startswith('Janauary'):\n",
    "            date = 'January' + date[len_ms_jan:]\n",
    "        elif date.startswith('Febuary'):\n",
    "            date = 'February' + date[len_ms_feb:]\n",
    "    else:\n",
    "        date = np.nan\n",
    "    return date\n",
    "\n",
    "class Empty(Exception):\n",
    "    pass\n",
    "\n",
    "def split_article(art):\n",
    "    art = art.split('\\n')\n",
    "    art_split = []\n",
    "    for line in art:\n",
    "        art_split.append(preprocessor(line))\n",
    "    return art_split\n",
    "\n",
    "def calc_avg_sentiment(art, model):\n",
    "    '''\n",
    "    how to properly calculate the sentiment of a piece of newspaper article?\n",
    "    things that need to be considered:\n",
    "        - many sentences in an article may contain neutral sentiment. taking the average of the sentiments of all sentences \"dilutes\" the overall sentiment\n",
    "          solution (that i propose and is adopted in this function): take the average of nonzero (non-neutral) sentiments only \n",
    "        - the \"weights\" of sentiment of non-neutral sentences differ as they carry different kinds of information. how should this be quantified?\n",
    "          e.g., two positive sentences both receive 1 score. however, sentence 1 may influence traders' decisions more than sentence 2\n",
    "          solution: none yet. will assume equal weights as assuming otherwise would require a different model that assigns continuous numerical values as scores\n",
    "    '''\n",
    "    sent_scores = []\n",
    "    for line in art:\n",
    "        sent = model.predict([line])\n",
    "        if sent != 0:\n",
    "            sent_scores.append(sent[0])\n",
    "    \n",
    "        if len(sent_scores) == 0:\n",
    "            avg_sent = 0.0\n",
    "        else:\n",
    "            avg_sent = round(np.mean(sent_scores),2)\n",
    "\n",
    "    return avg_sent\n",
    "\n",
    "class SentimentDataFrames():\n",
    "    \n",
    "    def __init__(self, df_news, model):\n",
    "        self.df = df_news\n",
    "        self.comp_df = pd.DataFrame()\n",
    "        self.comp_sent_df = pd.DataFrame()\n",
    "        self.model = model\n",
    "        \n",
    "    def get_processed_df(self):\n",
    "        '''\n",
    "        in this method, self.df will be cleaned up to remove rows where dates cannot be identified from articles or urls.\n",
    "        retuls will be a cleaned df that contains the following columns: date, newspaper name, article titile, article, url and a helper column.\n",
    "        '''\n",
    "        #create the date column\n",
    "        self.df['date_from_url'] = self.df.url.apply(extract_date_from_url)\n",
    "        self.df['date_from_article'] = self.df.text.apply(extract_date_from_article)\n",
    "        self.df['date'] = self.df['date_from_url'].combine_first(self.df['date_from_article'])\n",
    "\n",
    "        #will only use news articles where dates can be extracted \n",
    "        self.df = self.df[self.df.date.notna()]\n",
    "\n",
    "        #change date from list data type to timestamp \n",
    "        self.df.date = self.df.date.apply(lambda x: pd.to_datetime(x, errors='coerce'))\n",
    "        self.df = self.df[self.df.date.notna()]\n",
    "\n",
    "        self.df.drop(columns = ['date_from_url', 'date_from_article'], inplace=True)\n",
    "\n",
    "        self.df['newspaper'] = self.df.url.apply(extract_newsletter_name)\n",
    "        \n",
    "        self.df.reset_index(drop=True, inplace=True)\n",
    "        \n",
    "        new_order = ['date', 'newspaper', 'title', 'text', 'url']\n",
    "        self.df = self.df.reindex(columns=new_order)\n",
    "        self.df.rename(columns = {'text':'article'}, inplace=True)\n",
    "        self.df['helper'] = None\n",
    "        \n",
    "        return self.df\n",
    "    \n",
    "    def get_comp_df(self, comp_name):\n",
    "        '''\n",
    "        in this method, additional columns will be added in order to get an averaged sentiment score for an artile.\n",
    "        the method makes a copy of self.df and filter for articles about the specified company, comp_name, then calculates the average sentiment.\n",
    "        it then further filters for the year where there are the highest number of articles \n",
    "        the end result is a dataframe that contains the following columns: date, year, newspaper name, article titile, article, url, \n",
    "        processed_article, processed_title, and avg_article_sentiment.\n",
    "        '''\n",
    "        if 'helper' not in self.df.columns:\n",
    "            raise Empty('DataFrame has not been processed! Call the get_processed_df method!')\n",
    "        \n",
    "        self.comp_df = self.df.copy()\n",
    "        \n",
    "        self.comp_df['processed_title'] = self.comp_df.title.apply(preprocessor)\n",
    "        self.comp_df['processed_title'] = self.comp_df['processed_title'].apply(tokenizer)\n",
    "        self.comp_df.helper = self.comp_df['processed_title'].apply(lambda x: comp_name in x)\n",
    "\n",
    "        self.comp_df = self.comp_df[self.comp_df.helper==True]\n",
    "        \n",
    "        self.comp_df.helper = self.comp_df.article.apply(split_article)\n",
    "        \n",
    "        self.comp_df['avg_article_sentiment'] = self.comp_df.helper.apply(lambda x: calc_avg_sentiment(x, self.model))\n",
    "        \n",
    "        self.comp_df.sort_values('date',inplace=True)\n",
    "        \n",
    "        self.comp_df['year'] = self.comp_df.date.dt.year\n",
    "        \n",
    "        #retaining the year that has the largest number of articles\n",
    "        self.comp_df = self.comp_df[self.comp_df.year == self.comp_df.year.value_counts().idxmax()] \n",
    "        \n",
    "        self.comp_df.rename(columns={'helper':'processed_article'}, inplace=True)\n",
    "        \n",
    "        self.comp_df.reset_index(drop=True, inplace=True)\n",
    "        \n",
    "        return self.comp_df\n",
    "    \n",
    "    def get_comp_sentiments(self):\n",
    "        '''\n",
    "        in this method, all the article sentiments will be aggregated by date. \n",
    "        the resulting score is an average of multiple articles published on the same day\n",
    "        '''\n",
    "        self.comp_sent_df = self.comp_df.copy()\n",
    "        self.comp_sent_df = self.comp_sent_df.groupby('date', as_index=False).agg({'avg_article_sentiment':'mean'})\n",
    "        return self.comp_sent_df\n"
   ]
  },
  {
   "cell_type": "code",
   "execution_count": 1100,
   "id": "c2af77fc-fba3-4d12-9e35-ddd57868baa2",
   "metadata": {},
   "outputs": [],
   "source": [
    "class SentimentGraph():\n",
    "    '''\n",
    "    this class contains the company name and company sentiment dataframe attributes.\n",
    "    its method creates a time series graph about the sentiments.\n",
    "    '''\n",
    "    def __init__(self, comp_name, comp_sent_df):\n",
    "        self.comp_sent_df = comp_sent_df\n",
    "        self.comp_name = comp_name.capitalize()\n",
    "\n",
    "    def get_sent_graph(self):\n",
    "        plt.figure(figsize=(20, 2))\n",
    "        colors = ['blue' if val > 0 else 'red' for val in self.comp_sent_df.avg_article_sentiment]\n",
    "        bars = plt.bar(self.comp_sent_df.date, self.comp_sent_df.avg_article_sentiment, color = colors)\n",
    "\n",
    "        plt.title(f'Average Newspaper Sentiments about {self.comp_name}', fontsize=12)\n",
    "        plt.xlabel('Date', fontsize=12)\n",
    "        plt.ylabel('Average Sentiments', fontsize=12)\n",
    "        plt.grid(True, which='both', color='gray', linestyle='--', linewidth=0.5)\n",
    "        plt.xticks(rotation=90) \n",
    "        plt.minorticks_on()\n",
    "        plt.show()\n",
    "        return None"
   ]
  },
  {
   "cell_type": "code",
   "execution_count": 1102,
   "id": "c6879026-0e78-4918-b7aa-8f8ac6896302",
   "metadata": {},
   "outputs": [],
   "source": [
    "class StockPriceDataFrame():\n",
    "    '''\n",
    "    this class stores the information that is necessary for calling an API and downloading the historical stock prices of a company.\n",
    "    the method transforms stock prices in json file to a dataframe.\n",
    "    '''\n",
    "    def __init__(self, symbol):\n",
    "        self.base_url = 'https://www.alphavantage.co/query?'\n",
    "        self.api_key = '5O74RRM09BLCB723'\n",
    "        self.symbol = symbol.upper()\n",
    "        self.params={'function':'TIME_SERIES_DAILY',\n",
    "                     'symbol': self.symbol,\n",
    "                     'apikey': self.api_key,\n",
    "                     'outputsize': 'full',\n",
    "                     'datatype': 'json'\n",
    "                     }\n",
    "        self.sprice_df = pd.DataFrame()\n",
    "        \n",
    "    def get_stockprices(self):\n",
    "        '''\n",
    "        the final stock price df contains date and close price columns.\n",
    "        date is in datetime format. price is a float datatype.\n",
    "        '''\n",
    "        results = requests.get(self.base_url, params=self.params)\n",
    "        assert results.status_code == 200, 'Something wrong!'\n",
    "        raw = results.json()\n",
    "\n",
    "        placeholder_dict = {'date':[],\n",
    "                             #'open':[],\n",
    "                             #'high':[],\n",
    "                             #'low':[],\n",
    "                             'close':[],\n",
    "                             #'volume':[]             \n",
    "                             }\n",
    "\n",
    "        for date in raw['Time Series (Daily)']:\n",
    "            placeholder_dict['date'].append(date)\n",
    "            #placeholder_dict['open'].append(raw['Time Series (Daily)'][date]['1. open'])\n",
    "            #placeholder_dict['high'].append(raw['Time Series (Daily)'][date]['2. high'])\n",
    "            #placeholder_dict['low'].append(raw['Time Series (Daily)'][date]['3. low'])\n",
    "            placeholder_dict['close'].append(raw['Time Series (Daily)'][date]['4. close'])\n",
    "            #placeholder_dict['volume'].append(raw['Time Series (Daily)'][date]['5. volume'])\n",
    "\n",
    "        self.sprice_df = pd.DataFrame(placeholder_dict)\n",
    "        self.sprice_df.date = self.sprice_df.date.apply(lambda x: pd.to_datetime(x))\n",
    "        \n",
    "        for key in self.sprice_df.keys():\n",
    "            if key != 'date':\n",
    "                self.sprice_df[key] = self.sprice_df[key].astype(float)                \n",
    "        \n",
    "        return self.sprice_df\n",
    "                        "
   ]
  },
  {
   "cell_type": "code",
   "execution_count": 1024,
   "id": "0c3118a3-e2d5-4a57-bdf8-48f79fc7705a",
   "metadata": {},
   "outputs": [],
   "source": [
    "class MergedDataFrame():\n",
    "    '''\n",
    "    this class contains data frames as its attributes.\n",
    "    its method merges a company's newspaper sentments and stock prices into one data frame.\n",
    "    '''\n",
    "    def __init__(self, sentiment_df, stock_df):\n",
    "        self.sent_df = sentiment_df\n",
    "        self.stock_df = stock_df\n",
    "        self.merged_df = pd.DataFrame()\n",
    "\n",
    "    def get_merged_df(self):\n",
    "        '''\n",
    "        in this method, sentiment and stock prices dataframes are merged.\n",
    "        left join is used to pull in prices for the dates when the news were published, as well as prices two days prior to the publication,\n",
    "        and prices three days prior. \n",
    "        the rationale behind this algorithm is that the articles in the data all come from sources such as wsj, reuters, where publication of\n",
    "        information is delayed by 2 to 3 days, meaning newspaper writers read financial analyses (not from wsj and reuters) on day 0 and then write an artile.\n",
    "        by the time the publication is out in wsj, the analyses have been available to the public for about 2 to 3 days. \n",
    "        such information should already be reflected in the stock price.\n",
    "        \n",
    "        therefore, price change percentage is calculated by: (the price on the date of publication (sentiment date) - the price two or three days prior)/ \n",
    "        the price two or three days prior * 100\n",
    "        '''\n",
    "        self.merged_df = pd.merge(self.sent_df, self.stock_df, how='left', on='date')\n",
    "        \n",
    "        self.merged_df['prior_2d'] = self.merged_df.date + pd.DateOffset(days=-2)\n",
    "        self.merged_df['prior_3d'] = self.merged_df.date + pd.DateOffset(days=-3)\n",
    "        \n",
    "        self.merged_df = pd.merge(self.merged_df, self.stock_df, how='left', left_on='prior_2d',right_on='date', suffixes = (None, '_2d'))\n",
    "        self.merged_df = pd.merge(self.merged_df, self.stock_df, how='left', left_on='prior_3d',right_on='date', suffixes = (None, '_3d'))\n",
    "        \n",
    "        self.merged_df.drop(columns = ['date_2d','date_3d'],inplace=True)\n",
    "        \n",
    "        new_order = ['date', 'avg_article_sentiment', 'close', 'prior_2d', 'close_2d','prior_3d','close_3d']\n",
    "        self.merged_df = self.merged_df.reindex(columns=new_order)\n",
    "        \n",
    "        self.merged_df['price_diff_2d'] = (self.merged_df.close - self.merged_df.close_2d)/self.merged_df.close_2d*100\n",
    "        self.merged_df['price_diff_3d'] = (self.merged_df.close - self.merged_df.close_3d)/self.merged_df.close_3d*100\n",
    "        self.merged_df['price_diff'] = self.merged_df.price_diff_2d.combine_first(self.merged_df.price_diff_3d)\n",
    "        \n",
    "        return self.merged_df\n",
    "        "
   ]
  },
  {
   "cell_type": "code",
   "execution_count": 1057,
   "id": "854699cd-3419-4304-8cde-b67ad0401cd8",
   "metadata": {},
   "outputs": [],
   "source": [
    "class Correlation():\n",
    "    '''\n",
    "    this class contains methods for evaluting the correlation between a stock's newspaper sentiments and prices\n",
    "    '''\n",
    "    def __init__(self, merged_df):\n",
    "        self.merged_df = merged_df\n",
    "        \n",
    "    def get_corr(self):\n",
    "        'this method returns the correlation between sentiment and prices'\n",
    "        \n",
    "        corr = self.merged_df.avg_article_sentiment.corr(self.merged_df.price_diff)\n",
    "        return f'There correlation between sentiment and stock price is {corr:.2}.'\n",
    "    \n",
    "    def get_scatterplot(self):\n",
    "        'this method graphs the scatterplot and linear regression line between sentiment and prices'\n",
    "        \n",
    "        plt.figure(figsize=(10, 2))\n",
    "        sns.lmplot(x='avg_article_sentiment', y='price_diff', data=self.merged_df, scatter_kws={'alpha':0.75})\n",
    "        plt.title('Scatter Plot between Sentiment and Stock Price', fontsize=15)\n",
    "        plt.xlabel('Average Sentiment', fontsize=12)\n",
    "        plt.ylabel('Price Change (2 or 3 Day) (%)', fontsize=12)\n",
    "        plt.show()\n",
    "        \n",
    "        return None\n",
    "    \n",
    "    def get_timeseriesplot(self):\n",
    "        'this method outputs a time series plot that compares sentiments and stock price changes side by side'\n",
    "        \n",
    "        plt.figure(figsize=(20, 6))\n",
    "        sns.lineplot(x='date', y='price_diff', marker='o', alpha=0.75, data=self.merged_df) \n",
    "        plt.title('Time Series Plot', fontsize=15)\n",
    "        plt.xlabel('Date', fontsize=12)\n",
    "        plt.ylabel('Average Sentiment, Stock Price Change (2 or 3 Day) (%)', fontsize=12)\n",
    "        plt.grid(True, which='both', color='gray', linestyle='--', linewidth=0.5) \n",
    "        plt.minorticks_on()\n",
    "        plt.xticks(rotation=90)\n",
    "\n",
    "        colors = ['blue' if val > 0 else 'red' for val in self.merged_df.avg_article_sentiment]\n",
    "        bars = plt.bar(self.merged_df.date, self.merged_df.avg_article_sentiment, color = colors)\n",
    "        \n",
    "        legend_elements = [\n",
    "            Line2D([0], [0], color='b', lw=2, label='Price Difference %'),\n",
    "            Line2D([0], [0], marker='o', color='w', markerfacecolor='blue', markersize=10, label='Positive Sentiment'),\n",
    "            Line2D([0], [0], marker='o', color='w', markerfacecolor='red', markersize=10, label='Negative Sentiment')\n",
    "        ]\n",
    "\n",
    "        plt.legend(handles=legend_elements, loc='upper left', fontsize=12)\n",
    "        plt.show()\n",
    "        \n",
    "        return None\n",
    "        "
   ]
  },
  {
   "cell_type": "markdown",
   "id": "d28736b4-367e-4900-912a-dd5d8ebb68a5",
   "metadata": {},
   "source": [
    "#### "
   ]
  },
  {
   "cell_type": "markdown",
   "id": "335e8a10-ba99-4871-91f1-15fb6cbdf07b",
   "metadata": {},
   "source": [
    "#### test using Apple"
   ]
  },
  {
   "cell_type": "code",
   "execution_count": 1094,
   "id": "64eba302-5c70-40e9-ba95-c165da564702",
   "metadata": {},
   "outputs": [],
   "source": [
    "test = SentimentDataFrames(df_news,model_1)"
   ]
  },
  {
   "cell_type": "code",
   "execution_count": 1095,
   "id": "40c68ebb-af92-432e-8eb8-7b2d58c8dfef",
   "metadata": {},
   "outputs": [
    {
     "name": "stderr",
     "output_type": "stream",
     "text": [
      "/var/folders/6t/qq3z1qdx60s0sj_h80x_2wz40000gn/T/ipykernel_44146/1842786826.py:90: SettingWithCopyWarning: \n",
      "A value is trying to be set on a copy of a slice from a DataFrame.\n",
      "Try using .loc[row_indexer,col_indexer] = value instead\n",
      "\n",
      "See the caveats in the documentation: https://pandas.pydata.org/pandas-docs/stable/user_guide/indexing.html#returning-a-view-versus-a-copy\n",
      "  self.df.date = self.df.date.apply(lambda x: pd.to_datetime(x, errors='coerce'))\n"
     ]
    },
    {
     "data": {
      "text/html": [
       "<div>\n",
       "<style scoped>\n",
       "    .dataframe tbody tr th:only-of-type {\n",
       "        vertical-align: middle;\n",
       "    }\n",
       "\n",
       "    .dataframe tbody tr th {\n",
       "        vertical-align: top;\n",
       "    }\n",
       "\n",
       "    .dataframe thead th {\n",
       "        text-align: right;\n",
       "    }\n",
       "</style>\n",
       "<table border=\"1\" class=\"dataframe\">\n",
       "  <thead>\n",
       "    <tr style=\"text-align: right;\">\n",
       "      <th></th>\n",
       "      <th>date</th>\n",
       "      <th>newspaper</th>\n",
       "      <th>title</th>\n",
       "      <th>article</th>\n",
       "      <th>url</th>\n",
       "      <th>helper</th>\n",
       "    </tr>\n",
       "  </thead>\n",
       "  <tbody>\n",
       "    <tr>\n",
       "      <th>0</th>\n",
       "      <td>2018-01-02</td>\n",
       "      <td>reuters</td>\n",
       "      <td>BRIEF-Bigger Capital Fund Reports An 8 Pct Pas...</td>\n",
       "      <td>January 2, 2018 / 9:31 PM / Updated 8 minutes ...</td>\n",
       "      <td>https://www.reuters.com/article/brief-bigger-c...</td>\n",
       "      <td>None</td>\n",
       "    </tr>\n",
       "    <tr>\n",
       "      <th>1</th>\n",
       "      <td>2018-01-02</td>\n",
       "      <td>reuters</td>\n",
       "      <td>Global Markets: Asia shares reach decade top o...</td>\n",
       "      <td>NEW YORK (Reuters) - European stocks closed lo...</td>\n",
       "      <td>https://in.reuters.com/article/global-markets/...</td>\n",
       "      <td>None</td>\n",
       "    </tr>\n",
       "    <tr>\n",
       "      <th>2</th>\n",
       "      <td>2018-01-18</td>\n",
       "      <td>cnbc</td>\n",
       "      <td>Donald Trump is the only person in Washington ...</td>\n",
       "      <td>Fears of a government shutdown coursed through...</td>\n",
       "      <td>https://www.cnbc.com/2018/01/18/donald-trump-t...</td>\n",
       "      <td>None</td>\n",
       "    </tr>\n",
       "    <tr>\n",
       "      <th>3</th>\n",
       "      <td>2018-01-22</td>\n",
       "      <td>reuters</td>\n",
       "      <td>EU mulls new link between budget and civic rights</td>\n",
       "      <td>January 22, 2018 / 7:23 PM / Updated 2 hours a...</td>\n",
       "      <td>https://uk.reuters.com/article/uk-eu-poland-bu...</td>\n",
       "      <td>None</td>\n",
       "    </tr>\n",
       "    <tr>\n",
       "      <th>4</th>\n",
       "      <td>2018-01-23</td>\n",
       "      <td>reuters</td>\n",
       "      <td>BRIEF-Sandridge Energy Rejects Icahn's Proposa...</td>\n",
       "      <td>January 23, 2018 / 9:42 PM / Updated 10 minute...</td>\n",
       "      <td>https://www.reuters.com/article/brief-sandridg...</td>\n",
       "      <td>None</td>\n",
       "    </tr>\n",
       "    <tr>\n",
       "      <th>...</th>\n",
       "      <td>...</td>\n",
       "      <td>...</td>\n",
       "      <td>...</td>\n",
       "      <td>...</td>\n",
       "      <td>...</td>\n",
       "      <td>...</td>\n",
       "    </tr>\n",
       "    <tr>\n",
       "      <th>185698</th>\n",
       "      <td>2018-05-04</td>\n",
       "      <td>cnbc</td>\n",
       "      <td>QIC Expands Senior Leadership Team in U.S. and...</td>\n",
       "      <td>NEW YORK and LOS ANGELES, May 4, 2018 /PRNewsw...</td>\n",
       "      <td>http://www.cnbc.com/2018/05/04/pr-newswire-qic...</td>\n",
       "      <td>None</td>\n",
       "    </tr>\n",
       "    <tr>\n",
       "      <th>185699</th>\n",
       "      <td>2018-05-08</td>\n",
       "      <td>reuters</td>\n",
       "      <td>Fissures spread from Hawaii volcano, threateni...</td>\n",
       "      <td>May 8, 2018 / 10:16 AM / Updated an hour ago F...</td>\n",
       "      <td>https://uk.reuters.com/article/uk-hawaii-volca...</td>\n",
       "      <td>None</td>\n",
       "    </tr>\n",
       "    <tr>\n",
       "      <th>185700</th>\n",
       "      <td>2018-05-17</td>\n",
       "      <td>reuters</td>\n",
       "      <td>British gaming firm enlists army of players to...</td>\n",
       "      <td>May 17, 2018 / 10:22 AM / Updated 39 minutes a...</td>\n",
       "      <td>https://www.reuters.com/article/us-videogames-...</td>\n",
       "      <td>None</td>\n",
       "    </tr>\n",
       "    <tr>\n",
       "      <th>185701</th>\n",
       "      <td>2018-05-31</td>\n",
       "      <td>cnbc</td>\n",
       "      <td>JMU Limited Reports Unaudited First Quarter 20...</td>\n",
       "      <td>SHANGHAI, May 31, 2018 /PRNewswire/ -- JMU Lim...</td>\n",
       "      <td>http://www.cnbc.com/2018/05/31/pr-newswire-jmu...</td>\n",
       "      <td>None</td>\n",
       "    </tr>\n",
       "    <tr>\n",
       "      <th>185702</th>\n",
       "      <td>2018-05-31</td>\n",
       "      <td>cnbc</td>\n",
       "      <td>Apple will reportedly introduce new software t...</td>\n",
       "      <td>Adam Jeffery | CNBC Tim Cook, CEO of Apple Inc...</td>\n",
       "      <td>https://www.cnbc.com/2018/05/31/apple-digital-...</td>\n",
       "      <td>None</td>\n",
       "    </tr>\n",
       "  </tbody>\n",
       "</table>\n",
       "<p>185703 rows × 6 columns</p>\n",
       "</div>"
      ],
      "text/plain": [
       "             date newspaper  \\\n",
       "0      2018-01-02   reuters   \n",
       "1      2018-01-02   reuters   \n",
       "2      2018-01-18      cnbc   \n",
       "3      2018-01-22   reuters   \n",
       "4      2018-01-23   reuters   \n",
       "...           ...       ...   \n",
       "185698 2018-05-04      cnbc   \n",
       "185699 2018-05-08   reuters   \n",
       "185700 2018-05-17   reuters   \n",
       "185701 2018-05-31      cnbc   \n",
       "185702 2018-05-31      cnbc   \n",
       "\n",
       "                                                    title  \\\n",
       "0       BRIEF-Bigger Capital Fund Reports An 8 Pct Pas...   \n",
       "1       Global Markets: Asia shares reach decade top o...   \n",
       "2       Donald Trump is the only person in Washington ...   \n",
       "3       EU mulls new link between budget and civic rights   \n",
       "4       BRIEF-Sandridge Energy Rejects Icahn's Proposa...   \n",
       "...                                                   ...   \n",
       "185698  QIC Expands Senior Leadership Team in U.S. and...   \n",
       "185699  Fissures spread from Hawaii volcano, threateni...   \n",
       "185700  British gaming firm enlists army of players to...   \n",
       "185701  JMU Limited Reports Unaudited First Quarter 20...   \n",
       "185702  Apple will reportedly introduce new software t...   \n",
       "\n",
       "                                                  article  \\\n",
       "0       January 2, 2018 / 9:31 PM / Updated 8 minutes ...   \n",
       "1       NEW YORK (Reuters) - European stocks closed lo...   \n",
       "2       Fears of a government shutdown coursed through...   \n",
       "3       January 22, 2018 / 7:23 PM / Updated 2 hours a...   \n",
       "4       January 23, 2018 / 9:42 PM / Updated 10 minute...   \n",
       "...                                                   ...   \n",
       "185698  NEW YORK and LOS ANGELES, May 4, 2018 /PRNewsw...   \n",
       "185699  May 8, 2018 / 10:16 AM / Updated an hour ago F...   \n",
       "185700  May 17, 2018 / 10:22 AM / Updated 39 minutes a...   \n",
       "185701  SHANGHAI, May 31, 2018 /PRNewswire/ -- JMU Lim...   \n",
       "185702  Adam Jeffery | CNBC Tim Cook, CEO of Apple Inc...   \n",
       "\n",
       "                                                      url helper  \n",
       "0       https://www.reuters.com/article/brief-bigger-c...   None  \n",
       "1       https://in.reuters.com/article/global-markets/...   None  \n",
       "2       https://www.cnbc.com/2018/01/18/donald-trump-t...   None  \n",
       "3       https://uk.reuters.com/article/uk-eu-poland-bu...   None  \n",
       "4       https://www.reuters.com/article/brief-sandridg...   None  \n",
       "...                                                   ...    ...  \n",
       "185698  http://www.cnbc.com/2018/05/04/pr-newswire-qic...   None  \n",
       "185699  https://uk.reuters.com/article/uk-hawaii-volca...   None  \n",
       "185700  https://www.reuters.com/article/us-videogames-...   None  \n",
       "185701  http://www.cnbc.com/2018/05/31/pr-newswire-jmu...   None  \n",
       "185702  https://www.cnbc.com/2018/05/31/apple-digital-...   None  \n",
       "\n",
       "[185703 rows x 6 columns]"
      ]
     },
     "execution_count": 1095,
     "metadata": {},
     "output_type": "execute_result"
    }
   ],
   "source": [
    "processed_df = test.get_processed_df()\n",
    "processed_df"
   ]
  },
  {
   "cell_type": "code",
   "execution_count": 1097,
   "id": "bb91784b-6586-4fc1-9eef-424ecbf18e8b",
   "metadata": {},
   "outputs": [
    {
     "data": {
      "text/html": [
       "<div>\n",
       "<style scoped>\n",
       "    .dataframe tbody tr th:only-of-type {\n",
       "        vertical-align: middle;\n",
       "    }\n",
       "\n",
       "    .dataframe tbody tr th {\n",
       "        vertical-align: top;\n",
       "    }\n",
       "\n",
       "    .dataframe thead th {\n",
       "        text-align: right;\n",
       "    }\n",
       "</style>\n",
       "<table border=\"1\" class=\"dataframe\">\n",
       "  <thead>\n",
       "    <tr style=\"text-align: right;\">\n",
       "      <th></th>\n",
       "      <th>date</th>\n",
       "      <th>newspaper</th>\n",
       "      <th>title</th>\n",
       "      <th>article</th>\n",
       "      <th>url</th>\n",
       "      <th>processed_article</th>\n",
       "      <th>processed_title</th>\n",
       "      <th>avg_article_sentiment</th>\n",
       "      <th>year</th>\n",
       "    </tr>\n",
       "  </thead>\n",
       "  <tbody>\n",
       "    <tr>\n",
       "      <th>0</th>\n",
       "      <td>2018-01-02</td>\n",
       "      <td>cnbc</td>\n",
       "      <td>Sell Apple on battery life canard? No!: Jim Cr...</td>\n",
       "      <td>Sell Apple on battery life canard? No!: Jim Cr...</td>\n",
       "      <td>https://www.cnbc.com/video/2018/01/02/sell-app...</td>\n",
       "      <td>[sell apple on battery life canard no jim cram...</td>\n",
       "      <td>[sell, apple, on, battery, life, canard, no, j...</td>\n",
       "      <td>0.0</td>\n",
       "      <td>2018</td>\n",
       "    </tr>\n",
       "    <tr>\n",
       "      <th>1</th>\n",
       "      <td>2018-01-02</td>\n",
       "      <td>cnbc</td>\n",
       "      <td>Cramer Remix: My prediction for Apple in 2018</td>\n",
       "      <td>Cramer Remix: My prediction for Apple in 2018 ...</td>\n",
       "      <td>https://www.cnbc.com/video/2018/01/02/cramer-r...</td>\n",
       "      <td>[cramer remix my prediction for apple in 2018 ...</td>\n",
       "      <td>[cramer, remix, my, prediction, for, apple, in...</td>\n",
       "      <td>-1.0</td>\n",
       "      <td>2018</td>\n",
       "    </tr>\n",
       "    <tr>\n",
       "      <th>2</th>\n",
       "      <td>2018-01-02</td>\n",
       "      <td>cnbc</td>\n",
       "      <td>Cramer: Apple's iPhone 'batterygate' issue doe...</td>\n",
       "      <td>3 Hours Ago | 01:23 \\nApple 's iPhone battery ...</td>\n",
       "      <td>https://www.cnbc.com/2018/01/02/cramer-apples-...</td>\n",
       "      <td>[3 hours ago 01 23 , apple s iphone battery pr...</td>\n",
       "      <td>[cramer, apple, s, iphone, batterygate, issue,...</td>\n",
       "      <td>-1.0</td>\n",
       "      <td>2018</td>\n",
       "    </tr>\n",
       "    <tr>\n",
       "      <th>3</th>\n",
       "      <td>2018-01-02</td>\n",
       "      <td>fortune</td>\n",
       "      <td>Apple Admits To Slowing iPhones With Aging Bat...</td>\n",
       "      <td>An Apple Conspiracy Theory Blooms Poravute By ...</td>\n",
       "      <td>http://fortune.com/2018/01/02/an-apple-conspir...</td>\n",
       "      <td>[an apple conspiracy theory blooms poravute by...</td>\n",
       "      <td>[apple, admits, to, slowing, iphones, with, ag...</td>\n",
       "      <td>1.0</td>\n",
       "      <td>2018</td>\n",
       "    </tr>\n",
       "    <tr>\n",
       "      <th>4</th>\n",
       "      <td>2018-01-02</td>\n",
       "      <td>fortune</td>\n",
       "      <td>Trump's Tax Plan Means Apple Can Netflix and C...</td>\n",
       "      <td>By Hallie Detrick 9:20 AM EST \\nThere’s a 40% ...</td>\n",
       "      <td>http://fortune.com/2018/01/02/apple-can-netfli...</td>\n",
       "      <td>[by hallie detrick 9 20 am est , there s a 40 ...</td>\n",
       "      <td>[trump, s, tax, plan, means, apple, can, netfl...</td>\n",
       "      <td>0.0</td>\n",
       "      <td>2018</td>\n",
       "    </tr>\n",
       "    <tr>\n",
       "      <th>...</th>\n",
       "      <td>...</td>\n",
       "      <td>...</td>\n",
       "      <td>...</td>\n",
       "      <td>...</td>\n",
       "      <td>...</td>\n",
       "      <td>...</td>\n",
       "      <td>...</td>\n",
       "      <td>...</td>\n",
       "      <td>...</td>\n",
       "    </tr>\n",
       "    <tr>\n",
       "      <th>1352</th>\n",
       "      <td>2018-05-31</td>\n",
       "      <td>cnbc</td>\n",
       "      <td>Evergreen Bets Big on Disrupting the IT Market...</td>\n",
       "      <td>SAN FRANCISCO--(BUSINESS WIRE)-- Evergreen Ser...</td>\n",
       "      <td>http://www.cnbc.com/2018/05/31/business-wire-e...</td>\n",
       "      <td>[san francisco business wire evergreen service...</td>\n",
       "      <td>[evergreen, bets, big, on, disrupting, the, it...</td>\n",
       "      <td>1.0</td>\n",
       "      <td>2018</td>\n",
       "    </tr>\n",
       "    <tr>\n",
       "      <th>1353</th>\n",
       "      <td>2018-05-31</td>\n",
       "      <td>reuters</td>\n",
       "      <td>Telegram says Apple has prevented it from upda...</td>\n",
       "      <td>May 31, 2018 / 9:48 AM / a few seconds ago Tel...</td>\n",
       "      <td>https://www.reuters.com/article/us-russia-tele...</td>\n",
       "      <td>[may 31 2018 9 48 am a few seconds ago telegra...</td>\n",
       "      <td>[telegram, says, apple, has, prevented, it, fr...</td>\n",
       "      <td>1.0</td>\n",
       "      <td>2018</td>\n",
       "    </tr>\n",
       "    <tr>\n",
       "      <th>1354</th>\n",
       "      <td>2018-05-31</td>\n",
       "      <td>reuters</td>\n",
       "      <td>Apple cuts smartphone power chip orders from D...</td>\n",
       "      <td>May 31, 2018 / 5:36 PM / Updated 3 hours ago A...</td>\n",
       "      <td>https://in.reuters.com/article/apple-power-chi...</td>\n",
       "      <td>[may 31 2018 5 36 pm updated 3 hours ago apple...</td>\n",
       "      <td>[apple, cuts, smartphone, power, chip, orders,...</td>\n",
       "      <td>0.0</td>\n",
       "      <td>2018</td>\n",
       "    </tr>\n",
       "    <tr>\n",
       "      <th>1355</th>\n",
       "      <td>2018-05-31</td>\n",
       "      <td>fortune</td>\n",
       "      <td>Telegram CEO Says Apple Refuses to Update App ...</td>\n",
       "      <td>The CEO of the secure-messaging app Telegram i...</td>\n",
       "      <td>http://fortune.com/2018/05/31/telegram-apple-a...</td>\n",
       "      <td>[the ceo of the secure messaging app telegram ...</td>\n",
       "      <td>[telegram, ceo, says, apple, refuses, to, upda...</td>\n",
       "      <td>0.0</td>\n",
       "      <td>2018</td>\n",
       "    </tr>\n",
       "    <tr>\n",
       "      <th>1356</th>\n",
       "      <td>2018-05-31</td>\n",
       "      <td>cnbc</td>\n",
       "      <td>Apple will reportedly introduce new software t...</td>\n",
       "      <td>Adam Jeffery | CNBC Tim Cook, CEO of Apple Inc...</td>\n",
       "      <td>https://www.cnbc.com/2018/05/31/apple-digital-...</td>\n",
       "      <td>[adam jeffery cnbc tim cook ceo of apple inc ,...</td>\n",
       "      <td>[apple, will, reportedly, introduce, new, soft...</td>\n",
       "      <td>0.0</td>\n",
       "      <td>2018</td>\n",
       "    </tr>\n",
       "  </tbody>\n",
       "</table>\n",
       "<p>1357 rows × 9 columns</p>\n",
       "</div>"
      ],
      "text/plain": [
       "           date newspaper                                              title  \\\n",
       "0    2018-01-02      cnbc  Sell Apple on battery life canard? No!: Jim Cr...   \n",
       "1    2018-01-02      cnbc      Cramer Remix: My prediction for Apple in 2018   \n",
       "2    2018-01-02      cnbc  Cramer: Apple's iPhone 'batterygate' issue doe...   \n",
       "3    2018-01-02   fortune  Apple Admits To Slowing iPhones With Aging Bat...   \n",
       "4    2018-01-02   fortune  Trump's Tax Plan Means Apple Can Netflix and C...   \n",
       "...         ...       ...                                                ...   \n",
       "1352 2018-05-31      cnbc  Evergreen Bets Big on Disrupting the IT Market...   \n",
       "1353 2018-05-31   reuters  Telegram says Apple has prevented it from upda...   \n",
       "1354 2018-05-31   reuters  Apple cuts smartphone power chip orders from D...   \n",
       "1355 2018-05-31   fortune  Telegram CEO Says Apple Refuses to Update App ...   \n",
       "1356 2018-05-31      cnbc  Apple will reportedly introduce new software t...   \n",
       "\n",
       "                                                article  \\\n",
       "0     Sell Apple on battery life canard? No!: Jim Cr...   \n",
       "1     Cramer Remix: My prediction for Apple in 2018 ...   \n",
       "2     3 Hours Ago | 01:23 \\nApple 's iPhone battery ...   \n",
       "3     An Apple Conspiracy Theory Blooms Poravute By ...   \n",
       "4     By Hallie Detrick 9:20 AM EST \\nThere’s a 40% ...   \n",
       "...                                                 ...   \n",
       "1352  SAN FRANCISCO--(BUSINESS WIRE)-- Evergreen Ser...   \n",
       "1353  May 31, 2018 / 9:48 AM / a few seconds ago Tel...   \n",
       "1354  May 31, 2018 / 5:36 PM / Updated 3 hours ago A...   \n",
       "1355  The CEO of the secure-messaging app Telegram i...   \n",
       "1356  Adam Jeffery | CNBC Tim Cook, CEO of Apple Inc...   \n",
       "\n",
       "                                                    url  \\\n",
       "0     https://www.cnbc.com/video/2018/01/02/sell-app...   \n",
       "1     https://www.cnbc.com/video/2018/01/02/cramer-r...   \n",
       "2     https://www.cnbc.com/2018/01/02/cramer-apples-...   \n",
       "3     http://fortune.com/2018/01/02/an-apple-conspir...   \n",
       "4     http://fortune.com/2018/01/02/apple-can-netfli...   \n",
       "...                                                 ...   \n",
       "1352  http://www.cnbc.com/2018/05/31/business-wire-e...   \n",
       "1353  https://www.reuters.com/article/us-russia-tele...   \n",
       "1354  https://in.reuters.com/article/apple-power-chi...   \n",
       "1355  http://fortune.com/2018/05/31/telegram-apple-a...   \n",
       "1356  https://www.cnbc.com/2018/05/31/apple-digital-...   \n",
       "\n",
       "                                      processed_article  \\\n",
       "0     [sell apple on battery life canard no jim cram...   \n",
       "1     [cramer remix my prediction for apple in 2018 ...   \n",
       "2     [3 hours ago 01 23 , apple s iphone battery pr...   \n",
       "3     [an apple conspiracy theory blooms poravute by...   \n",
       "4     [by hallie detrick 9 20 am est , there s a 40 ...   \n",
       "...                                                 ...   \n",
       "1352  [san francisco business wire evergreen service...   \n",
       "1353  [may 31 2018 9 48 am a few seconds ago telegra...   \n",
       "1354  [may 31 2018 5 36 pm updated 3 hours ago apple...   \n",
       "1355  [the ceo of the secure messaging app telegram ...   \n",
       "1356  [adam jeffery cnbc tim cook ceo of apple inc ,...   \n",
       "\n",
       "                                        processed_title  \\\n",
       "0     [sell, apple, on, battery, life, canard, no, j...   \n",
       "1     [cramer, remix, my, prediction, for, apple, in...   \n",
       "2     [cramer, apple, s, iphone, batterygate, issue,...   \n",
       "3     [apple, admits, to, slowing, iphones, with, ag...   \n",
       "4     [trump, s, tax, plan, means, apple, can, netfl...   \n",
       "...                                                 ...   \n",
       "1352  [evergreen, bets, big, on, disrupting, the, it...   \n",
       "1353  [telegram, says, apple, has, prevented, it, fr...   \n",
       "1354  [apple, cuts, smartphone, power, chip, orders,...   \n",
       "1355  [telegram, ceo, says, apple, refuses, to, upda...   \n",
       "1356  [apple, will, reportedly, introduce, new, soft...   \n",
       "\n",
       "      avg_article_sentiment  year  \n",
       "0                       0.0  2018  \n",
       "1                      -1.0  2018  \n",
       "2                      -1.0  2018  \n",
       "3                       1.0  2018  \n",
       "4                       0.0  2018  \n",
       "...                     ...   ...  \n",
       "1352                    1.0  2018  \n",
       "1353                    1.0  2018  \n",
       "1354                    0.0  2018  \n",
       "1355                    0.0  2018  \n",
       "1356                    0.0  2018  \n",
       "\n",
       "[1357 rows x 9 columns]"
      ]
     },
     "execution_count": 1097,
     "metadata": {},
     "output_type": "execute_result"
    }
   ],
   "source": [
    "comp_df = test.get_comp_df('apple')\n",
    "comp_df"
   ]
  },
  {
   "cell_type": "code",
   "execution_count": 1098,
   "id": "aea64db8-0b81-42fa-a1ee-4c4ac2ad8e7b",
   "metadata": {},
   "outputs": [
    {
     "data": {
      "text/html": [
       "<div>\n",
       "<style scoped>\n",
       "    .dataframe tbody tr th:only-of-type {\n",
       "        vertical-align: middle;\n",
       "    }\n",
       "\n",
       "    .dataframe tbody tr th {\n",
       "        vertical-align: top;\n",
       "    }\n",
       "\n",
       "    .dataframe thead th {\n",
       "        text-align: right;\n",
       "    }\n",
       "</style>\n",
       "<table border=\"1\" class=\"dataframe\">\n",
       "  <thead>\n",
       "    <tr style=\"text-align: right;\">\n",
       "      <th></th>\n",
       "      <th>date</th>\n",
       "      <th>avg_article_sentiment</th>\n",
       "    </tr>\n",
       "  </thead>\n",
       "  <tbody>\n",
       "    <tr>\n",
       "      <th>0</th>\n",
       "      <td>2018-01-02</td>\n",
       "      <td>0.117692</td>\n",
       "    </tr>\n",
       "    <tr>\n",
       "      <th>1</th>\n",
       "      <td>2018-01-03</td>\n",
       "      <td>0.341667</td>\n",
       "    </tr>\n",
       "    <tr>\n",
       "      <th>2</th>\n",
       "      <td>2018-01-04</td>\n",
       "      <td>0.181818</td>\n",
       "    </tr>\n",
       "    <tr>\n",
       "      <th>3</th>\n",
       "      <td>2018-01-05</td>\n",
       "      <td>0.206111</td>\n",
       "    </tr>\n",
       "    <tr>\n",
       "      <th>4</th>\n",
       "      <td>2018-01-06</td>\n",
       "      <td>0.666667</td>\n",
       "    </tr>\n",
       "    <tr>\n",
       "      <th>...</th>\n",
       "      <td>...</td>\n",
       "      <td>...</td>\n",
       "    </tr>\n",
       "    <tr>\n",
       "      <th>135</th>\n",
       "      <td>2018-05-26</td>\n",
       "      <td>1.000000</td>\n",
       "    </tr>\n",
       "    <tr>\n",
       "      <th>136</th>\n",
       "      <td>2018-05-28</td>\n",
       "      <td>1.000000</td>\n",
       "    </tr>\n",
       "    <tr>\n",
       "      <th>137</th>\n",
       "      <td>2018-05-29</td>\n",
       "      <td>0.509091</td>\n",
       "    </tr>\n",
       "    <tr>\n",
       "      <th>138</th>\n",
       "      <td>2018-05-30</td>\n",
       "      <td>0.200000</td>\n",
       "    </tr>\n",
       "    <tr>\n",
       "      <th>139</th>\n",
       "      <td>2018-05-31</td>\n",
       "      <td>0.333333</td>\n",
       "    </tr>\n",
       "  </tbody>\n",
       "</table>\n",
       "<p>140 rows × 2 columns</p>\n",
       "</div>"
      ],
      "text/plain": [
       "          date  avg_article_sentiment\n",
       "0   2018-01-02               0.117692\n",
       "1   2018-01-03               0.341667\n",
       "2   2018-01-04               0.181818\n",
       "3   2018-01-05               0.206111\n",
       "4   2018-01-06               0.666667\n",
       "..         ...                    ...\n",
       "135 2018-05-26               1.000000\n",
       "136 2018-05-28               1.000000\n",
       "137 2018-05-29               0.509091\n",
       "138 2018-05-30               0.200000\n",
       "139 2018-05-31               0.333333\n",
       "\n",
       "[140 rows x 2 columns]"
      ]
     },
     "execution_count": 1098,
     "metadata": {},
     "output_type": "execute_result"
    }
   ],
   "source": [
    "sent_df = test.get_comp_sentiments()\n",
    "sent_df"
   ]
  },
  {
   "cell_type": "code",
   "execution_count": 1101,
   "id": "95f989da-da5a-4cc9-94c4-b71667f9b450",
   "metadata": {},
   "outputs": [
    {
     "data": {
      "image/png": "[encoded data removed]",
      "text/plain": [
       "<Figure size 2000x200 with 1 Axes>"
      ]
     },
     "metadata": {},
     "output_type": "display_data"
    }
   ],
   "source": [
    "a = SentimentGraph('apple',sent_df)\n",
    "a.get_sent_graph()"
   ]
  },
  {
   "cell_type": "code",
   "execution_count": 1103,
   "id": "c7c80fc3-cdff-4ad3-b174-a10077e5a8d6",
   "metadata": {},
   "outputs": [],
   "source": [
    "b = StockPriceDataFrame('aapl')"
   ]
  },
  {
   "cell_type": "code",
   "execution_count": 1105,
   "id": "9342266c-abf2-4a84-a368-81a3822c8996",
   "metadata": {},
   "outputs": [],
   "source": [
    "a_sp = b.get_stockprices()"
   ]
  },
  {
   "cell_type": "code",
   "execution_count": 1106,
   "id": "b03a57e1-1ba2-4341-aca2-8241698d5c77",
   "metadata": {},
   "outputs": [],
   "source": [
    "m = MergedDataFrame(sent_df, a_sp)"
   ]
  },
  {
   "cell_type": "code",
   "execution_count": 1111,
   "id": "0feeef59-a717-4b32-a929-a0200b27c2e3",
   "metadata": {},
   "outputs": [
    {
     "data": {
      "text/html": [
       "<div>\n",
       "<style scoped>\n",
       "    .dataframe tbody tr th:only-of-type {\n",
       "        vertical-align: middle;\n",
       "    }\n",
       "\n",
       "    .dataframe tbody tr th {\n",
       "        vertical-align: top;\n",
       "    }\n",
       "\n",
       "    .dataframe thead th {\n",
       "        text-align: right;\n",
       "    }\n",
       "</style>\n",
       "<table border=\"1\" class=\"dataframe\">\n",
       "  <thead>\n",
       "    <tr style=\"text-align: right;\">\n",
       "      <th></th>\n",
       "      <th>date</th>\n",
       "      <th>avg_article_sentiment</th>\n",
       "      <th>close</th>\n",
       "      <th>prior_2d</th>\n",
       "      <th>close_2d</th>\n",
       "      <th>prior_3d</th>\n",
       "      <th>close_3d</th>\n",
       "      <th>price_diff_2d</th>\n",
       "      <th>price_diff_3d</th>\n",
       "      <th>price_diff</th>\n",
       "    </tr>\n",
       "  </thead>\n",
       "  <tbody>\n",
       "    <tr>\n",
       "      <th>0</th>\n",
       "      <td>2018-01-02</td>\n",
       "      <td>0.117692</td>\n",
       "      <td>172.26</td>\n",
       "      <td>2017-12-31</td>\n",
       "      <td>NaN</td>\n",
       "      <td>2017-12-30</td>\n",
       "      <td>NaN</td>\n",
       "      <td>NaN</td>\n",
       "      <td>NaN</td>\n",
       "      <td>NaN</td>\n",
       "    </tr>\n",
       "    <tr>\n",
       "      <th>1</th>\n",
       "      <td>2018-01-03</td>\n",
       "      <td>0.341667</td>\n",
       "      <td>172.23</td>\n",
       "      <td>2018-01-01</td>\n",
       "      <td>NaN</td>\n",
       "      <td>2017-12-31</td>\n",
       "      <td>NaN</td>\n",
       "      <td>NaN</td>\n",
       "      <td>NaN</td>\n",
       "      <td>NaN</td>\n",
       "    </tr>\n",
       "    <tr>\n",
       "      <th>2</th>\n",
       "      <td>2018-01-04</td>\n",
       "      <td>0.181818</td>\n",
       "      <td>173.03</td>\n",
       "      <td>2018-01-02</td>\n",
       "      <td>172.26</td>\n",
       "      <td>2018-01-01</td>\n",
       "      <td>NaN</td>\n",
       "      <td>0.446999</td>\n",
       "      <td>NaN</td>\n",
       "      <td>0.446999</td>\n",
       "    </tr>\n",
       "    <tr>\n",
       "      <th>3</th>\n",
       "      <td>2018-01-05</td>\n",
       "      <td>0.206111</td>\n",
       "      <td>175.00</td>\n",
       "      <td>2018-01-03</td>\n",
       "      <td>172.23</td>\n",
       "      <td>2018-01-02</td>\n",
       "      <td>172.26</td>\n",
       "      <td>1.608314</td>\n",
       "      <td>1.590619</td>\n",
       "      <td>1.608314</td>\n",
       "    </tr>\n",
       "    <tr>\n",
       "      <th>4</th>\n",
       "      <td>2018-01-06</td>\n",
       "      <td>0.666667</td>\n",
       "      <td>NaN</td>\n",
       "      <td>2018-01-04</td>\n",
       "      <td>173.03</td>\n",
       "      <td>2018-01-03</td>\n",
       "      <td>172.23</td>\n",
       "      <td>NaN</td>\n",
       "      <td>NaN</td>\n",
       "      <td>NaN</td>\n",
       "    </tr>\n",
       "    <tr>\n",
       "      <th>...</th>\n",
       "      <td>...</td>\n",
       "      <td>...</td>\n",
       "      <td>...</td>\n",
       "      <td>...</td>\n",
       "      <td>...</td>\n",
       "      <td>...</td>\n",
       "      <td>...</td>\n",
       "      <td>...</td>\n",
       "      <td>...</td>\n",
       "      <td>...</td>\n",
       "    </tr>\n",
       "    <tr>\n",
       "      <th>135</th>\n",
       "      <td>2018-05-26</td>\n",
       "      <td>1.000000</td>\n",
       "      <td>NaN</td>\n",
       "      <td>2018-05-24</td>\n",
       "      <td>188.15</td>\n",
       "      <td>2018-05-23</td>\n",
       "      <td>188.36</td>\n",
       "      <td>NaN</td>\n",
       "      <td>NaN</td>\n",
       "      <td>NaN</td>\n",
       "    </tr>\n",
       "    <tr>\n",
       "      <th>136</th>\n",
       "      <td>2018-05-28</td>\n",
       "      <td>1.000000</td>\n",
       "      <td>NaN</td>\n",
       "      <td>2018-05-26</td>\n",
       "      <td>NaN</td>\n",
       "      <td>2018-05-25</td>\n",
       "      <td>188.58</td>\n",
       "      <td>NaN</td>\n",
       "      <td>NaN</td>\n",
       "      <td>NaN</td>\n",
       "    </tr>\n",
       "    <tr>\n",
       "      <th>137</th>\n",
       "      <td>2018-05-29</td>\n",
       "      <td>0.509091</td>\n",
       "      <td>187.90</td>\n",
       "      <td>2018-05-27</td>\n",
       "      <td>NaN</td>\n",
       "      <td>2018-05-26</td>\n",
       "      <td>NaN</td>\n",
       "      <td>NaN</td>\n",
       "      <td>NaN</td>\n",
       "      <td>NaN</td>\n",
       "    </tr>\n",
       "    <tr>\n",
       "      <th>138</th>\n",
       "      <td>2018-05-30</td>\n",
       "      <td>0.200000</td>\n",
       "      <td>187.50</td>\n",
       "      <td>2018-05-28</td>\n",
       "      <td>NaN</td>\n",
       "      <td>2018-05-27</td>\n",
       "      <td>NaN</td>\n",
       "      <td>NaN</td>\n",
       "      <td>NaN</td>\n",
       "      <td>NaN</td>\n",
       "    </tr>\n",
       "    <tr>\n",
       "      <th>139</th>\n",
       "      <td>2018-05-31</td>\n",
       "      <td>0.333333</td>\n",
       "      <td>186.87</td>\n",
       "      <td>2018-05-29</td>\n",
       "      <td>187.90</td>\n",
       "      <td>2018-05-28</td>\n",
       "      <td>NaN</td>\n",
       "      <td>-0.548164</td>\n",
       "      <td>NaN</td>\n",
       "      <td>-0.548164</td>\n",
       "    </tr>\n",
       "  </tbody>\n",
       "</table>\n",
       "<p>140 rows × 10 columns</p>\n",
       "</div>"
      ],
      "text/plain": [
       "          date  avg_article_sentiment   close   prior_2d  close_2d   prior_3d  \\\n",
       "0   2018-01-02               0.117692  172.26 2017-12-31       NaN 2017-12-30   \n",
       "1   2018-01-03               0.341667  172.23 2018-01-01       NaN 2017-12-31   \n",
       "2   2018-01-04               0.181818  173.03 2018-01-02    172.26 2018-01-01   \n",
       "3   2018-01-05               0.206111  175.00 2018-01-03    172.23 2018-01-02   \n",
       "4   2018-01-06               0.666667     NaN 2018-01-04    173.03 2018-01-03   \n",
       "..         ...                    ...     ...        ...       ...        ...   \n",
       "135 2018-05-26               1.000000     NaN 2018-05-24    188.15 2018-05-23   \n",
       "136 2018-05-28               1.000000     NaN 2018-05-26       NaN 2018-05-25   \n",
       "137 2018-05-29               0.509091  187.90 2018-05-27       NaN 2018-05-26   \n",
       "138 2018-05-30               0.200000  187.50 2018-05-28       NaN 2018-05-27   \n",
       "139 2018-05-31               0.333333  186.87 2018-05-29    187.90 2018-05-28   \n",
       "\n",
       "     close_3d  price_diff_2d  price_diff_3d  price_diff  \n",
       "0         NaN            NaN            NaN         NaN  \n",
       "1         NaN            NaN            NaN         NaN  \n",
       "2         NaN       0.446999            NaN    0.446999  \n",
       "3      172.26       1.608314       1.590619    1.608314  \n",
       "4      172.23            NaN            NaN         NaN  \n",
       "..        ...            ...            ...         ...  \n",
       "135    188.36            NaN            NaN         NaN  \n",
       "136    188.58            NaN            NaN         NaN  \n",
       "137       NaN            NaN            NaN         NaN  \n",
       "138       NaN            NaN            NaN         NaN  \n",
       "139       NaN      -0.548164            NaN   -0.548164  \n",
       "\n",
       "[140 rows x 10 columns]"
      ]
     },
     "execution_count": 1111,
     "metadata": {},
     "output_type": "execute_result"
    }
   ],
   "source": [
    "m_df = m.get_merged_df()\n",
    "m_df"
   ]
  },
  {
   "cell_type": "code",
   "execution_count": 1113,
   "id": "aa20055b-eff0-4e41-9050-4ac9366fc3ff",
   "metadata": {},
   "outputs": [
    {
     "data": {
      "text/plain": [
       "63"
      ]
     },
     "execution_count": 1113,
     "metadata": {},
     "output_type": "execute_result"
    }
   ],
   "source": [
    "m_df.price_diff.isna().sum()"
   ]
  },
  {
   "cell_type": "code",
   "execution_count": 1115,
   "id": "b6f6db90-0aed-40c6-96fc-541943c57a86",
   "metadata": {},
   "outputs": [],
   "source": [
    "c = Correlation(m_df)"
   ]
  },
  {
   "cell_type": "code",
   "execution_count": 1116,
   "id": "21399b39-bf63-45cd-af78-0169763654ba",
   "metadata": {},
   "outputs": [
    {
     "data": {
      "text/plain": [
       "'There correlation between sentiment and stock price is 0.23.'"
      ]
     },
     "execution_count": 1116,
     "metadata": {},
     "output_type": "execute_result"
    }
   ],
   "source": [
    "c.get_corr()"
   ]
  },
  {
   "cell_type": "code",
   "execution_count": 1117,
   "id": "91fb30ff-c31b-4dd3-ab16-13e0b627f34c",
   "metadata": {},
   "outputs": [
    {
     "data": {
      "text/plain": [
       "<Figure size 1000x200 with 0 Axes>"
      ]
     },
     "metadata": {},
     "output_type": "display_data"
    },
    {
     "data": {
      "image/png": "[encoded data removed]",
      "text/plain": [
       "<Figure size 500x500 with 1 Axes>"
      ]
     },
     "metadata": {},
     "output_type": "display_data"
    }
   ],
   "source": [
    "c.get_scatterplot()"
   ]
  },
  {
   "cell_type": "code",
   "execution_count": 1118,
   "id": "d0128402-7b5d-4a5e-8710-adb5417a5848",
   "metadata": {},
   "outputs": [
    {
     "data": {
      "image/png": "[encoded data removed]",
      "text/plain": [
       "<Figure size 2000x600 with 1 Axes>"
      ]
     },
     "metadata": {},
     "output_type": "display_data"
    }
   ],
   "source": [
    "c.get_timeseriesplot()"
   ]
  },
  {
   "cell_type": "code",
   "execution_count": null,
   "id": "4730630e-3096-42c7-99a2-2aff9ce7d027",
   "metadata": {},
   "outputs": [],
   "source": []
  },
  {
   "cell_type": "code",
   "execution_count": 1114,
   "id": "cb09101e-20ab-4a73-97ad-224f433653c9",
   "metadata": {},
   "outputs": [
    {
     "data": {
      "text/plain": [
       "['__class__',\n",
       " '__delattr__',\n",
       " '__dict__',\n",
       " '__dir__',\n",
       " '__doc__',\n",
       " '__eq__',\n",
       " '__format__',\n",
       " '__ge__',\n",
       " '__getattribute__',\n",
       " '__gt__',\n",
       " '__hash__',\n",
       " '__init__',\n",
       " '__init_subclass__',\n",
       " '__le__',\n",
       " '__lt__',\n",
       " '__module__',\n",
       " '__ne__',\n",
       " '__new__',\n",
       " '__reduce__',\n",
       " '__reduce_ex__',\n",
       " '__repr__',\n",
       " '__setattr__',\n",
       " '__sizeof__',\n",
       " '__str__',\n",
       " '__subclasshook__',\n",
       " '__weakref__',\n",
       " 'get_corr',\n",
       " 'get_scatterplot',\n",
       " 'get_timeseriesplot']"
      ]
     },
     "execution_count": 1114,
     "metadata": {},
     "output_type": "execute_result"
    }
   ],
   "source": [
    "dir(Correlation)"
   ]
  },
  {
   "cell_type": "code",
   "execution_count": null,
   "id": "3b0673c8-c1d3-417e-8414-8d5dfe2b0ccc",
   "metadata": {},
   "outputs": [],
   "source": []
  },
  {
   "cell_type": "code",
   "execution_count": null,
   "id": "86ddc680-2907-466e-8ebd-c3033712545f",
   "metadata": {},
   "outputs": [],
   "source": []
  },
  {
   "cell_type": "code",
   "execution_count": null,
   "id": "755be07a-48eb-4551-bf6e-70a36c1e4a52",
   "metadata": {},
   "outputs": [],
   "source": []
  },
  {
   "cell_type": "code",
   "execution_count": null,
   "id": "2c00bf3c-82d8-4114-b19d-589088d7e4f6",
   "metadata": {},
   "outputs": [],
   "source": []
  },
  {
   "cell_type": "code",
   "execution_count": null,
   "id": "3db97cd6-c7ae-4a36-b275-425c75f5cafe",
   "metadata": {},
   "outputs": [],
   "source": []
  },
  {
   "cell_type": "code",
   "execution_count": null,
   "id": "c1e91758-2ae8-4f64-a1c7-d3d333308241",
   "metadata": {},
   "outputs": [],
   "source": []
  }
 ],
 "metadata": {
  "kernelspec": {
   "display_name": "Python 3 (ipykernel)",
   "language": "python",
   "name": "python3"
  },
  "language_info": {
   "codemirror_mode": {
    "name": "ipython",
    "version": 3
   },
   "file_extension": ".py",
   "mimetype": "text/x-python",
   "name": "python",
   "nbconvert_exporter": "python",
   "pygments_lexer": "ipython3",
   "version": "3.9.13"
  }
 },
 "nbformat": 4,
 "nbformat_minor": 5
}
